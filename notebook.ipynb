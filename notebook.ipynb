{
 "cells": [
  {
   "cell_type": "markdown",
   "id": "135a01fd",
   "metadata": {},
   "source": [
    "# CIA Factbook Data Analysis with SQL\n",
    "\n",
    "The CIA factbook, also known as the [World Factbook](https://www.cia.gov/the-world-factbook/), is an annual publication of the US Central Intelligence Agency. It provides basic intelligence by summarizing information about countries and regions worldwide. The factbook contains a mix of demographic and geographic data, among many more.\n",
    "\n",
    "This project aims to use SQL in Jupyter Notebook to analyze data from this [SQLite factbook.db](https://dsserver-prod-resources-1.s3.amazonaws.com/257/factbook.db) database.\n",
    "\n",
    "## Connecting to the Database"
   ]
  },
  {
   "cell_type": "code",
   "execution_count": 1,
   "id": "a52ad379",
   "metadata": {},
   "outputs": [],
   "source": [
    "%%capture\n",
    "%load_ext sql\n",
    "%sql sqlite:///factbook.db"
   ]
  },
  {
   "cell_type": "markdown",
   "id": "0338d730",
   "metadata": {},
   "source": [
    "## Understanding the Data\n",
    "---\n",
    "First, let's examine the tables in our database:"
   ]
  },
  {
   "cell_type": "code",
   "execution_count": 2,
   "id": "6499ad80",
   "metadata": {},
   "outputs": [
    {
     "name": "stdout",
     "output_type": "stream",
     "text": [
      " * sqlite:///factbook.db\n",
      "Done.\n"
     ]
    },
    {
     "data": {
      "text/html": [
       "<table>\n",
       "    <thead>\n",
       "        <tr>\n",
       "            <th>type</th>\n",
       "            <th>name</th>\n",
       "            <th>tbl_name</th>\n",
       "            <th>rootpage</th>\n",
       "            <th>sql</th>\n",
       "        </tr>\n",
       "    </thead>\n",
       "    <tbody>\n",
       "        <tr>\n",
       "            <td>table</td>\n",
       "            <td>sqlite_sequence</td>\n",
       "            <td>sqlite_sequence</td>\n",
       "            <td>3</td>\n",
       "            <td>CREATE TABLE sqlite_sequence(name,seq)</td>\n",
       "        </tr>\n",
       "        <tr>\n",
       "            <td>table</td>\n",
       "            <td>facts</td>\n",
       "            <td>facts</td>\n",
       "            <td>47</td>\n",
       "            <td>CREATE TABLE &quot;facts&quot; (&quot;id&quot; INTEGER PRIMARY KEY AUTOINCREMENT NOT NULL, &quot;code&quot; varchar(255) NOT NULL, &quot;name&quot; varchar(255) NOT NULL, &quot;area&quot; integer, &quot;area_land&quot; integer, &quot;area_water&quot; integer, &quot;population&quot; integer, &quot;population_growth&quot; float, &quot;birth_rate&quot; float, &quot;death_rate&quot; float, &quot;migration_rate&quot; float)</td>\n",
       "        </tr>\n",
       "    </tbody>\n",
       "</table>"
      ],
      "text/plain": [
       "[('table', 'sqlite_sequence', 'sqlite_sequence', 3, 'CREATE TABLE sqlite_sequence(name,seq)'),\n",
       " ('table', 'facts', 'facts', 47, 'CREATE TABLE \"facts\" (\"id\" INTEGER PRIMARY KEY AUTOINCREMENT NOT NULL, \"code\" varchar(255) NOT NULL, \"name\" varchar(255) NOT NULL, \"area\" integer, \"a ... (4 characters truncated) ... land\" integer, \"area_water\" integer, \"population\" integer, \"population_growth\" float, \"birth_rate\" float, \"death_rate\" float, \"migration_rate\" float)')]"
      ]
     },
     "execution_count": 2,
     "metadata": {},
     "output_type": "execute_result"
    }
   ],
   "source": [
    "%%sql\n",
    "SELECT *\n",
    "  FROM sqlite_master\n",
    " WHERE type='table';"
   ]
  },
  {
   "cell_type": "markdown",
   "id": "ed2dbd93",
   "metadata": {},
   "source": [
    "#### Notes\n",
    ">- There are two tables in the database, **sqlite_sequence** and **facts**. \n",
    ">- The sqlite_sequence table does not contain any columns. \n",
    ">- The facts table contains information on _population, birth rate, migration rate_ and many more: this is what we need.\n",
    "  \n",
    "We will work with the **facts** table henceforth."
   ]
  },
  {
   "cell_type": "code",
   "execution_count": 3,
   "id": "bc7f5fbd",
   "metadata": {
    "scrolled": true
   },
   "outputs": [
    {
     "name": "stdout",
     "output_type": "stream",
     "text": [
      " * sqlite:///factbook.db\n",
      "Done.\n"
     ]
    },
    {
     "data": {
      "text/html": [
       "<table>\n",
       "    <thead>\n",
       "        <tr>\n",
       "            <th>id</th>\n",
       "            <th>code</th>\n",
       "            <th>name</th>\n",
       "            <th>area</th>\n",
       "            <th>area_land</th>\n",
       "            <th>area_water</th>\n",
       "            <th>population</th>\n",
       "            <th>population_growth</th>\n",
       "            <th>birth_rate</th>\n",
       "            <th>death_rate</th>\n",
       "            <th>migration_rate</th>\n",
       "        </tr>\n",
       "    </thead>\n",
       "    <tbody>\n",
       "        <tr>\n",
       "            <td>1</td>\n",
       "            <td>af</td>\n",
       "            <td>Afghanistan</td>\n",
       "            <td>652230</td>\n",
       "            <td>652230</td>\n",
       "            <td>0</td>\n",
       "            <td>32564342</td>\n",
       "            <td>2.32</td>\n",
       "            <td>38.57</td>\n",
       "            <td>13.89</td>\n",
       "            <td>1.51</td>\n",
       "        </tr>\n",
       "        <tr>\n",
       "            <td>2</td>\n",
       "            <td>al</td>\n",
       "            <td>Albania</td>\n",
       "            <td>28748</td>\n",
       "            <td>27398</td>\n",
       "            <td>1350</td>\n",
       "            <td>3029278</td>\n",
       "            <td>0.3</td>\n",
       "            <td>12.92</td>\n",
       "            <td>6.58</td>\n",
       "            <td>3.3</td>\n",
       "        </tr>\n",
       "        <tr>\n",
       "            <td>3</td>\n",
       "            <td>ag</td>\n",
       "            <td>Algeria</td>\n",
       "            <td>2381741</td>\n",
       "            <td>2381741</td>\n",
       "            <td>0</td>\n",
       "            <td>39542166</td>\n",
       "            <td>1.84</td>\n",
       "            <td>23.67</td>\n",
       "            <td>4.31</td>\n",
       "            <td>0.92</td>\n",
       "        </tr>\n",
       "        <tr>\n",
       "            <td>4</td>\n",
       "            <td>an</td>\n",
       "            <td>Andorra</td>\n",
       "            <td>468</td>\n",
       "            <td>468</td>\n",
       "            <td>0</td>\n",
       "            <td>85580</td>\n",
       "            <td>0.12</td>\n",
       "            <td>8.13</td>\n",
       "            <td>6.96</td>\n",
       "            <td>0.0</td>\n",
       "        </tr>\n",
       "        <tr>\n",
       "            <td>5</td>\n",
       "            <td>ao</td>\n",
       "            <td>Angola</td>\n",
       "            <td>1246700</td>\n",
       "            <td>1246700</td>\n",
       "            <td>0</td>\n",
       "            <td>19625353</td>\n",
       "            <td>2.78</td>\n",
       "            <td>38.78</td>\n",
       "            <td>11.49</td>\n",
       "            <td>0.46</td>\n",
       "        </tr>\n",
       "    </tbody>\n",
       "</table>"
      ],
      "text/plain": [
       "[(1, 'af', 'Afghanistan', 652230, 652230, 0, 32564342, 2.32, 38.57, 13.89, 1.51),\n",
       " (2, 'al', 'Albania', 28748, 27398, 1350, 3029278, 0.3, 12.92, 6.58, 3.3),\n",
       " (3, 'ag', 'Algeria', 2381741, 2381741, 0, 39542166, 1.84, 23.67, 4.31, 0.92),\n",
       " (4, 'an', 'Andorra', 468, 468, 0, 85580, 0.12, 8.13, 6.96, 0.0),\n",
       " (5, 'ao', 'Angola', 1246700, 1246700, 0, 19625353, 2.78, 38.78, 11.49, 0.46)]"
      ]
     },
     "execution_count": 3,
     "metadata": {},
     "output_type": "execute_result"
    }
   ],
   "source": [
    "%%sql\n",
    "-- Examine the first five rows in facts table\n",
    "SELECT *\n",
    "  FROM facts\n",
    " LIMIT 5;"
   ]
  },
  {
   "cell_type": "markdown",
   "id": "f68dd00a",
   "metadata": {},
   "source": [
    "The facts table comprises **11 columns** with intuitive names:\n",
    ">- **id** - Entry row number.\n",
    ">- **code** — The country's [internet code](https://www.cia.gov/the-world-factbook/field/internet-country-code/).\n",
    ">- **name** — Name of the country.\n",
    ">- **area** — The country's total area (both land and water).\n",
    ">- **area_land** — The country's land area in square kilometers.\n",
    ">- **area_water** — The country's water area in square kilometers.\n",
    ">- **population** —  Whole number of people or inhabitants in the country.\n",
    ">- **population_growth** — The country's population growth as a percentage.\n",
    ">- **birth_rate** — The number of births per year per 1,000 inhabitants.\n",
    ">- **death_rate** — The number of deaths per year per 1,000 inhabitants.\n",
    ">- **migration_rate** — The difference between the number of persons entering and leaving the country during the year per 1,000 persons. \n",
    "  \n",
    "Finally, let's check the total number of records in the facts table:"
   ]
  },
  {
   "cell_type": "code",
   "execution_count": 4,
   "id": "538729df",
   "metadata": {},
   "outputs": [
    {
     "name": "stdout",
     "output_type": "stream",
     "text": [
      " * sqlite:///factbook.db\n",
      "Done.\n"
     ]
    },
    {
     "data": {
      "text/html": [
       "<table>\n",
       "    <thead>\n",
       "        <tr>\n",
       "            <th>num_records</th>\n",
       "            <th>unique_countries</th>\n",
       "        </tr>\n",
       "    </thead>\n",
       "    <tbody>\n",
       "        <tr>\n",
       "            <td>261</td>\n",
       "            <td>261</td>\n",
       "        </tr>\n",
       "    </tbody>\n",
       "</table>"
      ],
      "text/plain": [
       "[(261, 261)]"
      ]
     },
     "execution_count": 4,
     "metadata": {},
     "output_type": "execute_result"
    }
   ],
   "source": [
    "%%sql\n",
    "-- Calculate the total number of records\n",
    "SELECT COUNT(*) AS num_records,\n",
    "       COUNT(DISTINCT name) AS unique_countries\n",
    "  FROM facts;"
   ]
  },
  {
   "cell_type": "markdown",
   "id": "c4806beb",
   "metadata": {},
   "source": [
    "261 records and countries seem unintuitive! We know there are only 195 countries in the world right now. \n",
    "\n",
    "The answer lies in the way the CIA categorizes its information. As of July 2011, The World Factbook comprises 267 **entities** divided into the following categories:\n",
    ">- **Independent countries:** The CIA defines these as people \"politically organized into a sovereign state with a definite territory.\" There are 195 entities in this category.\n",
    ">- **Others:** Places set apart from the list of independent countries. Currently, there are two: Taiwan and the European Union.\n",
    ">- **Dependencies and Areas of Special Sovereignty:** Places affiliated with another country. There are 58 in total.\n",
    ">- **Miscellaneous:** Antarctica and places in dispute. There are six such entities.\n",
    ">- **Other entities:** The world and the oceans. There are five oceans and the world (the World entry is intended as a summary of the other entries).\n",
    "\n",
    "Additional information about this classification can be found in the [world factbook wikipedia page](https://en.wikipedia.org/wiki/The_World_Factbook#:~:text=Entities%20listed,-Main%20article%3A%20List&text=The%20CIA%20defines%20these%20as,category%2C%20there%20are%20195%20entities.&text=Places%20set%20apart%20from%20the,Taiwan%20and%20the%20European%20Union.).\n",
    "\n",
    "We can check for these occurrences in our data:"
   ]
  },
  {
   "cell_type": "code",
   "execution_count": 5,
   "id": "8b793332",
   "metadata": {
    "scrolled": false
   },
   "outputs": [
    {
     "name": "stdout",
     "output_type": "stream",
     "text": [
      " * sqlite:///factbook.db\n",
      "Done.\n"
     ]
    },
    {
     "data": {
      "text/html": [
       "<table>\n",
       "    <thead>\n",
       "        <tr>\n",
       "            <th>id</th>\n",
       "            <th>code</th>\n",
       "            <th>name</th>\n",
       "            <th>area</th>\n",
       "            <th>area_land</th>\n",
       "            <th>area_water</th>\n",
       "            <th>population</th>\n",
       "            <th>population_growth</th>\n",
       "            <th>birth_rate</th>\n",
       "            <th>death_rate</th>\n",
       "            <th>migration_rate</th>\n",
       "        </tr>\n",
       "    </thead>\n",
       "    <tbody>\n",
       "        <tr>\n",
       "            <td>197</td>\n",
       "            <td>ee</td>\n",
       "            <td>European Union</td>\n",
       "            <td>4324782</td>\n",
       "            <td>None</td>\n",
       "            <td>None</td>\n",
       "            <td>513949445</td>\n",
       "            <td>0.25</td>\n",
       "            <td>10.2</td>\n",
       "            <td>10.2</td>\n",
       "            <td>2.5</td>\n",
       "        </tr>\n",
       "        <tr>\n",
       "            <td>199</td>\n",
       "            <td>kt</td>\n",
       "            <td>Christmas Island</td>\n",
       "            <td>135</td>\n",
       "            <td>135</td>\n",
       "            <td>0</td>\n",
       "            <td>1530</td>\n",
       "            <td>1.11</td>\n",
       "            <td>None</td>\n",
       "            <td>None</td>\n",
       "            <td>None</td>\n",
       "        </tr>\n",
       "        <tr>\n",
       "            <td>203</td>\n",
       "            <td>nf</td>\n",
       "            <td>Norfolk Island</td>\n",
       "            <td>36</td>\n",
       "            <td>36</td>\n",
       "            <td>0</td>\n",
       "            <td>2210</td>\n",
       "            <td>0.01</td>\n",
       "            <td>None</td>\n",
       "            <td>None</td>\n",
       "            <td>None</td>\n",
       "        </tr>\n",
       "        <tr>\n",
       "            <td>208</td>\n",
       "            <td>ip</td>\n",
       "            <td>Clipperton Island</td>\n",
       "            <td>6</td>\n",
       "            <td>6</td>\n",
       "            <td>0</td>\n",
       "            <td>None</td>\n",
       "            <td>None</td>\n",
       "            <td>None</td>\n",
       "            <td>None</td>\n",
       "            <td>None</td>\n",
       "        </tr>\n",
       "        <tr>\n",
       "            <td>222</td>\n",
       "            <td>bv</td>\n",
       "            <td>Bouvet Island</td>\n",
       "            <td>49</td>\n",
       "            <td>49</td>\n",
       "            <td>0</td>\n",
       "            <td>None</td>\n",
       "            <td>None</td>\n",
       "            <td>None</td>\n",
       "            <td>None</td>\n",
       "            <td>None</td>\n",
       "        </tr>\n",
       "        <tr>\n",
       "            <td>244</td>\n",
       "            <td>bq</td>\n",
       "            <td>Navassa Island</td>\n",
       "            <td>5</td>\n",
       "            <td>5</td>\n",
       "            <td>0</td>\n",
       "            <td>None</td>\n",
       "            <td>None</td>\n",
       "            <td>None</td>\n",
       "            <td>None</td>\n",
       "            <td>None</td>\n",
       "        </tr>\n",
       "        <tr>\n",
       "            <td>248</td>\n",
       "            <td>wq</td>\n",
       "            <td>Wake Island</td>\n",
       "            <td>6</td>\n",
       "            <td>6</td>\n",
       "            <td>0</td>\n",
       "            <td>None</td>\n",
       "            <td>None</td>\n",
       "            <td>None</td>\n",
       "            <td>None</td>\n",
       "            <td>None</td>\n",
       "        </tr>\n",
       "        <tr>\n",
       "            <td>256</td>\n",
       "            <td>xq</td>\n",
       "            <td>Arctic Ocean</td>\n",
       "            <td>None</td>\n",
       "            <td>None</td>\n",
       "            <td>None</td>\n",
       "            <td>None</td>\n",
       "            <td>None</td>\n",
       "            <td>None</td>\n",
       "            <td>None</td>\n",
       "            <td>None</td>\n",
       "        </tr>\n",
       "        <tr>\n",
       "            <td>257</td>\n",
       "            <td>zh</td>\n",
       "            <td>Atlantic Ocean</td>\n",
       "            <td>None</td>\n",
       "            <td>None</td>\n",
       "            <td>None</td>\n",
       "            <td>None</td>\n",
       "            <td>None</td>\n",
       "            <td>None</td>\n",
       "            <td>None</td>\n",
       "            <td>None</td>\n",
       "        </tr>\n",
       "        <tr>\n",
       "            <td>258</td>\n",
       "            <td>xo</td>\n",
       "            <td>Indian Ocean</td>\n",
       "            <td>None</td>\n",
       "            <td>None</td>\n",
       "            <td>None</td>\n",
       "            <td>None</td>\n",
       "            <td>None</td>\n",
       "            <td>None</td>\n",
       "            <td>None</td>\n",
       "            <td>None</td>\n",
       "        </tr>\n",
       "        <tr>\n",
       "            <td>259</td>\n",
       "            <td>zn</td>\n",
       "            <td>Pacific Ocean</td>\n",
       "            <td>None</td>\n",
       "            <td>None</td>\n",
       "            <td>None</td>\n",
       "            <td>None</td>\n",
       "            <td>None</td>\n",
       "            <td>None</td>\n",
       "            <td>None</td>\n",
       "            <td>None</td>\n",
       "        </tr>\n",
       "        <tr>\n",
       "            <td>260</td>\n",
       "            <td>oo</td>\n",
       "            <td>Southern Ocean</td>\n",
       "            <td>None</td>\n",
       "            <td>None</td>\n",
       "            <td>None</td>\n",
       "            <td>None</td>\n",
       "            <td>None</td>\n",
       "            <td>None</td>\n",
       "            <td>None</td>\n",
       "            <td>None</td>\n",
       "        </tr>\n",
       "        <tr>\n",
       "            <td>261</td>\n",
       "            <td>xx</td>\n",
       "            <td>World</td>\n",
       "            <td>None</td>\n",
       "            <td>None</td>\n",
       "            <td>None</td>\n",
       "            <td>7256490011</td>\n",
       "            <td>1.08</td>\n",
       "            <td>18.6</td>\n",
       "            <td>7.8</td>\n",
       "            <td>None</td>\n",
       "        </tr>\n",
       "    </tbody>\n",
       "</table>"
      ],
      "text/plain": [
       "[(197, 'ee', 'European Union', 4324782, None, None, 513949445, 0.25, 10.2, 10.2, 2.5),\n",
       " (199, 'kt', 'Christmas Island', 135, 135, 0, 1530, 1.11, None, None, None),\n",
       " (203, 'nf', 'Norfolk Island', 36, 36, 0, 2210, 0.01, None, None, None),\n",
       " (208, 'ip', 'Clipperton Island', 6, 6, 0, None, None, None, None, None),\n",
       " (222, 'bv', 'Bouvet Island', 49, 49, 0, None, None, None, None, None),\n",
       " (244, 'bq', 'Navassa Island', 5, 5, 0, None, None, None, None, None),\n",
       " (248, 'wq', 'Wake Island', 6, 6, 0, None, None, None, None, None),\n",
       " (256, 'xq', 'Arctic Ocean', None, None, None, None, None, None, None, None),\n",
       " (257, 'zh', 'Atlantic Ocean', None, None, None, None, None, None, None, None),\n",
       " (258, 'xo', 'Indian Ocean', None, None, None, None, None, None, None, None),\n",
       " (259, 'zn', 'Pacific Ocean', None, None, None, None, None, None, None, None),\n",
       " (260, 'oo', 'Southern Ocean', None, None, None, None, None, None, None, None),\n",
       " (261, 'xx', 'World', None, None, None, 7256490011, 1.08, 18.6, 7.8, None)]"
      ]
     },
     "execution_count": 5,
     "metadata": {},
     "output_type": "execute_result"
    }
   ],
   "source": [
    "%%sql\n",
    "-- check for some instances of \"non-country\" data\n",
    "SELECT *\n",
    "  FROM facts\n",
    " WHERE name LIKE '%union' \n",
    "    OR name LIKE '%ocean'\n",
    "    OR name LIKE '%island'\n",
    "    OR name = 'World';"
   ]
  },
  {
   "cell_type": "markdown",
   "id": "e96ae6a9",
   "metadata": {},
   "source": [
    ">- Since these occurrences are present, we should be careful to avoid their influence on the analysis process.\n",
    "  \n",
    "We can now proceed to analysis with _some_ understanding of the data and potential pitfalls to look out for.\n",
    "\n",
    "## Exploring Total Population\n",
    "---\n",
    "To understand how population values are distributed in the data, we can compute the population summary statics: the minimum, mean and maximum."
   ]
  },
  {
   "cell_type": "code",
   "execution_count": 6,
   "id": "ef9b760b",
   "metadata": {
    "scrolled": true
   },
   "outputs": [
    {
     "name": "stdout",
     "output_type": "stream",
     "text": [
      " * sqlite:///factbook.db\n",
      "Done.\n"
     ]
    },
    {
     "data": {
      "text/html": [
       "<table>\n",
       "    <thead>\n",
       "        <tr>\n",
       "            <th>min_population</th>\n",
       "            <th>avg_population</th>\n",
       "            <th>max_pop</th>\n",
       "        </tr>\n",
       "    </thead>\n",
       "    <tbody>\n",
       "        <tr>\n",
       "            <td>0</td>\n",
       "            <td>62094928</td>\n",
       "            <td>7256490011</td>\n",
       "        </tr>\n",
       "    </tbody>\n",
       "</table>"
      ],
      "text/plain": [
       "[(0, 62094928, 7256490011)]"
      ]
     },
     "execution_count": 6,
     "metadata": {},
     "output_type": "execute_result"
    }
   ],
   "source": [
    "%%sql \n",
    "SELECT MIN(population) AS min_population,\n",
    "       CAST(AVG(population) AS Integer) AS avg_population,\n",
    "       MAX(population) AS max_pop\n",
    "  FROM facts;"
   ]
  },
  {
   "cell_type": "markdown",
   "id": "7c091213",
   "metadata": {},
   "source": [
    "Surprising! Some countries/entities have no inhabitants. Another entity has a population of over 7 billion people. This population seems too good to be true since the world population is currently at [7.96 billion](https://www.worldometers.info/world-population) _(Worldometer Aug, 2022)_. It is best to identify what these entities are:"
   ]
  },
  {
   "cell_type": "code",
   "execution_count": 7,
   "id": "b45365df",
   "metadata": {},
   "outputs": [
    {
     "name": "stdout",
     "output_type": "stream",
     "text": [
      " * sqlite:///factbook.db\n",
      "Done.\n"
     ]
    },
    {
     "data": {
      "text/html": [
       "<table>\n",
       "    <thead>\n",
       "        <tr>\n",
       "            <th>name</th>\n",
       "            <th>population</th>\n",
       "        </tr>\n",
       "    </thead>\n",
       "    <tbody>\n",
       "        <tr>\n",
       "            <td>Antarctica</td>\n",
       "            <td>0</td>\n",
       "        </tr>\n",
       "        <tr>\n",
       "            <td>World</td>\n",
       "            <td>7256490011</td>\n",
       "        </tr>\n",
       "    </tbody>\n",
       "</table>"
      ],
      "text/plain": [
       "[('Antarctica', 0), ('World', 7256490011)]"
      ]
     },
     "execution_count": 7,
     "metadata": {},
     "output_type": "execute_result"
    }
   ],
   "source": [
    "%%sql \n",
    "-- Investigate the unusual countries/entities\n",
    "SELECT name, population\n",
    "  FROM facts\n",
    " WHERE population = (SELECT MIN(population) FROM facts) \n",
    "    OR population = (SELECT MAX(population) FROM facts);"
   ]
  },
  {
   "cell_type": "markdown",
   "id": "8b278cf9",
   "metadata": {},
   "source": [
    "Similar to earlier observations, the presence of entries like _World_ and _Antarctica_ explains the unusual population values. According to the [World population review](https://worldpopulationreview.com/continents/antarctica-population), Antarctica has no indigenous inhabitants, only research staff occasionally present at its many research stations. \n",
    "\n",
    "Another interesting thing to note is the world population value (7,256,490,011). A quick search of world population trends reveals that the CIA could have compiled the facts data between 2014 and 2015.<br>\n",
    "<img src=\"./images/world_population.png\" \n",
    "     height=\"300\" \n",
    "     width=\"300\"\n",
    "     align=\"left\"/>\n",
    "<div style='clear:both;'></div>\n",
    "\n",
    "_**Image source:** [Worldometer](https://www.worldometers.info/world-population/world-population-by-year/)_.\n",
    "\n",
    "With these outliers in mind, we can compute  a more appropriate descriptive statistics."
   ]
  },
  {
   "cell_type": "code",
   "execution_count": 8,
   "id": "95a5fbb8",
   "metadata": {},
   "outputs": [
    {
     "name": "stdout",
     "output_type": "stream",
     "text": [
      " * sqlite:///factbook.db\n",
      "Done.\n"
     ]
    },
    {
     "data": {
      "text/html": [
       "<table>\n",
       "    <thead>\n",
       "        <tr>\n",
       "            <th>min_pop</th>\n",
       "            <th>avg_pop</th>\n",
       "            <th>max_pop</th>\n",
       "        </tr>\n",
       "    </thead>\n",
       "    <tbody>\n",
       "        <tr>\n",
       "            <td>48</td>\n",
       "            <td>32377011</td>\n",
       "            <td>1367485388</td>\n",
       "        </tr>\n",
       "    </tbody>\n",
       "</table>"
      ],
      "text/plain": [
       "[(48, 32377011, 1367485388)]"
      ]
     },
     "execution_count": 8,
     "metadata": {},
     "output_type": "execute_result"
    }
   ],
   "source": [
    "%%sql \n",
    "SELECT MIN(population) AS min_pop,\n",
    "       CAST(AVG(population) AS Integer) AS avg_pop,\n",
    "       MAX(population) AS max_pop\n",
    "  FROM facts\n",
    " WHERE population != 0 \n",
    "   AND name != 'World';"
   ]
  },
  {
   "cell_type": "markdown",
   "id": "ba62eec7",
   "metadata": {},
   "source": [
    "The minimum population is 48, and the maximum is over 1.3 billion—the average population centers around 32 million inhabitants. We can now identify the highest and least populated countries or entities.\n",
    "\n",
    "### A. What are the top 5 countries in terms of total population?\n",
    "---"
   ]
  },
  {
   "cell_type": "code",
   "execution_count": 9,
   "id": "b5595bc4",
   "metadata": {},
   "outputs": [
    {
     "name": "stdout",
     "output_type": "stream",
     "text": [
      " * sqlite:///factbook.db\n",
      "Done.\n"
     ]
    },
    {
     "data": {
      "text/html": [
       "<table>\n",
       "    <thead>\n",
       "        <tr>\n",
       "            <th>top_5_populated</th>\n",
       "            <th>population</th>\n",
       "        </tr>\n",
       "    </thead>\n",
       "    <tbody>\n",
       "        <tr>\n",
       "            <td>China</td>\n",
       "            <td>1367485388</td>\n",
       "        </tr>\n",
       "        <tr>\n",
       "            <td>India</td>\n",
       "            <td>1251695584</td>\n",
       "        </tr>\n",
       "        <tr>\n",
       "            <td>European Union</td>\n",
       "            <td>513949445</td>\n",
       "        </tr>\n",
       "        <tr>\n",
       "            <td>United States</td>\n",
       "            <td>321368864</td>\n",
       "        </tr>\n",
       "        <tr>\n",
       "            <td>Indonesia</td>\n",
       "            <td>255993674</td>\n",
       "        </tr>\n",
       "    </tbody>\n",
       "</table>"
      ],
      "text/plain": [
       "[('China', 1367485388),\n",
       " ('India', 1251695584),\n",
       " ('European Union', 513949445),\n",
       " ('United States', 321368864),\n",
       " ('Indonesia', 255993674)]"
      ]
     },
     "execution_count": 9,
     "metadata": {},
     "output_type": "execute_result"
    }
   ],
   "source": [
    "%%sql \n",
    "SELECT name AS top_5_populated,\n",
    "       population\n",
    "  FROM facts\n",
    " WHERE population <> 0 \n",
    "   AND name <> 'World'\n",
    " ORDER BY 2 DESC\n",
    " LIMIT 5;"
   ]
  },
  {
   "cell_type": "markdown",
   "id": "84741ec2",
   "metadata": {},
   "source": [
    "The European Union is not a country; it is better to filter out the EU. As an extra step, we will calculate the proportion of the world's population contained in each country."
   ]
  },
  {
   "cell_type": "code",
   "execution_count": 10,
   "id": "d24419c9",
   "metadata": {},
   "outputs": [
    {
     "name": "stdout",
     "output_type": "stream",
     "text": [
      " * sqlite:///factbook.db\n",
      "Done.\n"
     ]
    },
    {
     "data": {
      "text/html": [
       "<table>\n",
       "    <thead>\n",
       "        <tr>\n",
       "            <th>5 Most Populated Countries</th>\n",
       "            <th>population</th>\n",
       "            <th>world_proportion</th>\n",
       "        </tr>\n",
       "    </thead>\n",
       "    <tbody>\n",
       "        <tr>\n",
       "            <td>China</td>\n",
       "            <td>1367485388</td>\n",
       "            <td>0.188</td>\n",
       "        </tr>\n",
       "        <tr>\n",
       "            <td>India</td>\n",
       "            <td>1251695584</td>\n",
       "            <td>0.172</td>\n",
       "        </tr>\n",
       "        <tr>\n",
       "            <td>United States</td>\n",
       "            <td>321368864</td>\n",
       "            <td>0.044</td>\n",
       "        </tr>\n",
       "        <tr>\n",
       "            <td>Indonesia</td>\n",
       "            <td>255993674</td>\n",
       "            <td>0.035</td>\n",
       "        </tr>\n",
       "        <tr>\n",
       "            <td>Brazil</td>\n",
       "            <td>204259812</td>\n",
       "            <td>0.028</td>\n",
       "        </tr>\n",
       "    </tbody>\n",
       "</table>"
      ],
      "text/plain": [
       "[('China', 1367485388, 0.188),\n",
       " ('India', 1251695584, 0.172),\n",
       " ('United States', 321368864, 0.044),\n",
       " ('Indonesia', 255993674, 0.035),\n",
       " ('Brazil', 204259812, 0.028)]"
      ]
     },
     "execution_count": 10,
     "metadata": {},
     "output_type": "execute_result"
    }
   ],
   "source": [
    "%%sql \n",
    "SELECT name AS \"5 Most Populated Countries\",\n",
    "       population,\n",
    "       ROUND(\n",
    "              CAST(population AS Float) / \n",
    "              CAST((SELECT MAX(population) FROM facts) AS Float)\n",
    "             , 3) AS world_proportion\n",
    "  FROM facts\n",
    " WHERE population <> 0 \n",
    "   AND name NOT IN ('World', 'European Union')\n",
    " ORDER BY 2 DESC\n",
    " LIMIT 5;"
   ]
  },
  {
   "cell_type": "markdown",
   "id": "6fa857c8",
   "metadata": {},
   "source": [
    ">- China is the world's most populated country, with about 1.37 billion people. India follows behind with about 1.26 billion people. **36%** of the world's total population comes from China (18.8%) and India (17.2%) alone.\n",
    ">- The United States (4.4% of the world total), Indonesia (3.5%), and Brazil (2.8%) follow far behind and constitute a combined **11%** of the world's population. \n",
    ">- Altogether the top 5 countries contribute **46%** to the global population.\n",
    "\n",
    "### B. What countries have the least total population?\n",
    "---"
   ]
  },
  {
   "cell_type": "code",
   "execution_count": 11,
   "id": "7b7bbc76",
   "metadata": {
    "scrolled": true
   },
   "outputs": [
    {
     "name": "stdout",
     "output_type": "stream",
     "text": [
      " * sqlite:///factbook.db\n",
      "Done.\n"
     ]
    },
    {
     "data": {
      "text/html": [
       "<table>\n",
       "    <thead>\n",
       "        <tr>\n",
       "            <th>5 Least Populated Countries</th>\n",
       "            <th>population</th>\n",
       "        </tr>\n",
       "    </thead>\n",
       "    <tbody>\n",
       "        <tr>\n",
       "            <td>Pitcairn Islands</td>\n",
       "            <td>48</td>\n",
       "        </tr>\n",
       "        <tr>\n",
       "            <td>Cocos (Keeling) Islands</td>\n",
       "            <td>596</td>\n",
       "        </tr>\n",
       "        <tr>\n",
       "            <td>Holy See (Vatican City)</td>\n",
       "            <td>842</td>\n",
       "        </tr>\n",
       "        <tr>\n",
       "            <td>Niue</td>\n",
       "            <td>1190</td>\n",
       "        </tr>\n",
       "        <tr>\n",
       "            <td>Tokelau</td>\n",
       "            <td>1337</td>\n",
       "        </tr>\n",
       "    </tbody>\n",
       "</table>"
      ],
      "text/plain": [
       "[('Pitcairn Islands', 48),\n",
       " ('Cocos (Keeling) Islands', 596),\n",
       " ('Holy See (Vatican City)', 842),\n",
       " ('Niue', 1190),\n",
       " ('Tokelau', 1337)]"
      ]
     },
     "execution_count": 11,
     "metadata": {},
     "output_type": "execute_result"
    }
   ],
   "source": [
    "%%sql \n",
    "SELECT name AS \"5 Least Populated Countries\",\n",
    "       population\n",
    "  FROM facts\n",
    " WHERE population <> 0 \n",
    "   AND name <> 'Antartica'\n",
    " ORDER BY 2\n",
    " LIMIT 5;"
   ]
  },
  {
   "cell_type": "markdown",
   "id": "0212d2e0",
   "metadata": {},
   "source": [
    ">- The least populated territories are the Pitcairn Islands (48 inhabitants), Cocos Islands (596), Holy See (842), Niue (1190), and Tokelau (1337).\n",
    "\n",
    "Asides from the Holy See, the universal government of the Catholic Church that operates from the Vatican City, the least populated countries are dependencies. Pitcairn Island is a dependency of the United Kingdom; Cocos Island is a dependency of Australia; Niue and Tokelau are dependencies of New Zealand. [Here](https://www.worldatlas.com/geography/dependencies-and-territories-of-the-world.html) is a list of the world's dependencies at the moment.\n",
    "\n",
    "## Exploring population density\n",
    "---\n",
    "![](https://www.internetgeography.net/wp-content/uploads/2018/04/World-Population-Density-1030x505.png)\n",
    "[National Geographic](https://education.nationalgeographic.org/resource/population-density) puts this in simple terms. Population density is the concentration of individuals within a species in a specific geographic locale. Population density data can be used to quantify demographic information and to assess relationships with ecosystems, human health, and infrastructure.\n",
    "\n",
    "Our data provides variables that we can use to estimate population density as follows:\n",
    "$$ \n",
    "Population\\ density = \\frac{Total\\ population}{Land\\ area\\ (km^2)}\n",
    "$$\n",
    "\n",
    "Before computing population densities for each country, let's scan for territories where population density or the land area may be zero or null."
   ]
  },
  {
   "cell_type": "code",
   "execution_count": 12,
   "id": "21c14c19",
   "metadata": {
    "scrolled": true
   },
   "outputs": [
    {
     "name": "stdout",
     "output_type": "stream",
     "text": [
      " * sqlite:///factbook.db\n",
      "Done.\n"
     ]
    },
    {
     "data": {
      "text/html": [
       "<table>\n",
       "    <thead>\n",
       "        <tr>\n",
       "            <th>COUNT(*)</th>\n",
       "        </tr>\n",
       "    </thead>\n",
       "    <tbody>\n",
       "        <tr>\n",
       "            <td>29</td>\n",
       "        </tr>\n",
       "    </tbody>\n",
       "</table>"
      ],
      "text/plain": [
       "[(29,)]"
      ]
     },
     "execution_count": 12,
     "metadata": {},
     "output_type": "execute_result"
    }
   ],
   "source": [
    "%%sql\n",
    "SELECT COUNT(*)\n",
    "  FROM facts\n",
    " WHERE population = 0\n",
    "     OR population IS NULL\n",
    "     OR area_land = 0\n",
    "     OR area_land IS NULL;"
   ]
  },
  {
   "cell_type": "markdown",
   "id": "945c6b5e",
   "metadata": {},
   "source": [
    "Indeed, 29 records meet these criteria. We will exclude these records.\n",
    "\n",
    "### A. Which countries have the highest population density?\n",
    "---"
   ]
  },
  {
   "cell_type": "code",
   "execution_count": 13,
   "id": "11c20742",
   "metadata": {
    "scrolled": true
   },
   "outputs": [
    {
     "name": "stdout",
     "output_type": "stream",
     "text": [
      " * sqlite:///factbook.db\n",
      "Done.\n"
     ]
    },
    {
     "data": {
      "text/html": [
       "<table>\n",
       "    <thead>\n",
       "        <tr>\n",
       "            <th>name</th>\n",
       "            <th>area_land</th>\n",
       "            <th>population</th>\n",
       "            <th>population_density</th>\n",
       "        </tr>\n",
       "    </thead>\n",
       "    <tbody>\n",
       "        <tr>\n",
       "            <td>Macau</td>\n",
       "            <td>28</td>\n",
       "            <td>592731</td>\n",
       "            <td>21168</td>\n",
       "        </tr>\n",
       "        <tr>\n",
       "            <td>Monaco</td>\n",
       "            <td>2</td>\n",
       "            <td>30535</td>\n",
       "            <td>15267</td>\n",
       "        </tr>\n",
       "        <tr>\n",
       "            <td>Singapore</td>\n",
       "            <td>687</td>\n",
       "            <td>5674472</td>\n",
       "            <td>8259</td>\n",
       "        </tr>\n",
       "        <tr>\n",
       "            <td>Hong Kong</td>\n",
       "            <td>1073</td>\n",
       "            <td>7141106</td>\n",
       "            <td>6655</td>\n",
       "        </tr>\n",
       "        <tr>\n",
       "            <td>Gaza Strip</td>\n",
       "            <td>360</td>\n",
       "            <td>1869055</td>\n",
       "            <td>5191</td>\n",
       "        </tr>\n",
       "        <tr>\n",
       "            <td>Gibraltar</td>\n",
       "            <td>6</td>\n",
       "            <td>29258</td>\n",
       "            <td>4876</td>\n",
       "        </tr>\n",
       "        <tr>\n",
       "            <td>Bahrain</td>\n",
       "            <td>760</td>\n",
       "            <td>1346613</td>\n",
       "            <td>1771</td>\n",
       "        </tr>\n",
       "        <tr>\n",
       "            <td>Maldives</td>\n",
       "            <td>298</td>\n",
       "            <td>393253</td>\n",
       "            <td>1319</td>\n",
       "        </tr>\n",
       "        <tr>\n",
       "            <td>Malta</td>\n",
       "            <td>316</td>\n",
       "            <td>413965</td>\n",
       "            <td>1310</td>\n",
       "        </tr>\n",
       "        <tr>\n",
       "            <td>Bermuda</td>\n",
       "            <td>54</td>\n",
       "            <td>70196</td>\n",
       "            <td>1299</td>\n",
       "        </tr>\n",
       "    </tbody>\n",
       "</table>"
      ],
      "text/plain": [
       "[('Macau', 28, 592731, 21168),\n",
       " ('Monaco', 2, 30535, 15267),\n",
       " ('Singapore', 687, 5674472, 8259),\n",
       " ('Hong Kong', 1073, 7141106, 6655),\n",
       " ('Gaza Strip', 360, 1869055, 5191),\n",
       " ('Gibraltar', 6, 29258, 4876),\n",
       " ('Bahrain', 760, 1346613, 1771),\n",
       " ('Maldives', 298, 393253, 1319),\n",
       " ('Malta', 316, 413965, 1310),\n",
       " ('Bermuda', 54, 70196, 1299)]"
      ]
     },
     "execution_count": 13,
     "metadata": {},
     "output_type": "execute_result"
    }
   ],
   "source": [
    "%%sql\n",
    "SELECT name, area_land, population,\n",
    "       CAST(\n",
    "            CAST(population AS Float) / \n",
    "              CAST(area_land AS Float) \n",
    "           AS Integer) AS population_density\n",
    "  FROM facts\n",
    "-- Filter out countries with zero or missing population/land area\n",
    " WHERE name NOT IN (SELECT name\n",
    "                      FROM facts\n",
    "                     WHERE population = 0\n",
    "                         OR population IS NULL\n",
    "                         OR area_land = 0\n",
    "                         OR area_land IS NULL\n",
    "                   )\n",
    " ORDER BY 4 DESC\n",
    " LIMIT 10;"
   ]
  },
  {
   "cell_type": "markdown",
   "id": "3d16ab5d",
   "metadata": {},
   "source": [
    ">- The Chinese territory of Macau has the world's highest population density at 21,168km². Three of the top five entries are territories rather than countries, with first-place Macau joined by fellow Chinese territory Hong Kong in 4th place and the Palestine-controlled Gaza Strip in 5th.\n",
    "\n",
    "Notably, all of these locations are tiny. The top five have a combined land area of less than 3,000 km². Moreover, most are also highly urbanized centers of wealth and finance, with a tendency toward cities and skyscrapers rather than rolling fields or vast wilderness areas ([see here](https://worldpopulationreview.com/country-rankings/countries-by-density)).\n",
    "\n",
    "Perhaps we could \"redefine\" a densely populated country to address the possible bias above. In our case, we will define a densely populated territory as one with a lower land area and a higher number of inhabitants compared to other territories. \n",
    "\n",
    "$$ \n",
    "For\\ a\\ densely\\ populated\\ country\\ or\\ territory:\\ \\\\\n",
    "Total\\ population > Average\\ world\\ population\\ \\\\\n",
    "and\\ Land\\ area < World\\ average\\ land\\ area\n",
    "$$\n",
    "\n",
    "We can use this new rule to identify the most densely populated countries:"
   ]
  },
  {
   "cell_type": "code",
   "execution_count": 14,
   "id": "d077e36b",
   "metadata": {
    "scrolled": true
   },
   "outputs": [
    {
     "name": "stdout",
     "output_type": "stream",
     "text": [
      " * sqlite:///factbook.db\n",
      "Done.\n"
     ]
    },
    {
     "data": {
      "text/html": [
       "<table>\n",
       "    <thead>\n",
       "        <tr>\n",
       "            <th>name</th>\n",
       "            <th>area_land</th>\n",
       "            <th>population</th>\n",
       "            <th>population_density</th>\n",
       "        </tr>\n",
       "    </thead>\n",
       "    <tbody>\n",
       "        <tr>\n",
       "            <td>Bangladesh</td>\n",
       "            <td>130170</td>\n",
       "            <td>168957745</td>\n",
       "            <td>1297</td>\n",
       "        </tr>\n",
       "        <tr>\n",
       "            <td>Korea, South</td>\n",
       "            <td>96920</td>\n",
       "            <td>49115196</td>\n",
       "            <td>506</td>\n",
       "        </tr>\n",
       "        <tr>\n",
       "            <td>Japan</td>\n",
       "            <td>364485</td>\n",
       "            <td>126919659</td>\n",
       "            <td>348</td>\n",
       "        </tr>\n",
       "        <tr>\n",
       "            <td>Philippines</td>\n",
       "            <td>298170</td>\n",
       "            <td>100998376</td>\n",
       "            <td>338</td>\n",
       "        </tr>\n",
       "        <tr>\n",
       "            <td>Vietnam</td>\n",
       "            <td>310070</td>\n",
       "            <td>94348835</td>\n",
       "            <td>304</td>\n",
       "        </tr>\n",
       "        <tr>\n",
       "            <td>United Kingdom</td>\n",
       "            <td>241930</td>\n",
       "            <td>64088222</td>\n",
       "            <td>264</td>\n",
       "        </tr>\n",
       "        <tr>\n",
       "            <td>Germany</td>\n",
       "            <td>348672</td>\n",
       "            <td>80854408</td>\n",
       "            <td>231</td>\n",
       "        </tr>\n",
       "        <tr>\n",
       "            <td>Nepal</td>\n",
       "            <td>143351</td>\n",
       "            <td>31551305</td>\n",
       "            <td>220</td>\n",
       "        </tr>\n",
       "        <tr>\n",
       "            <td>Italy</td>\n",
       "            <td>294140</td>\n",
       "            <td>61855120</td>\n",
       "            <td>210</td>\n",
       "        </tr>\n",
       "        <tr>\n",
       "            <td>Uganda</td>\n",
       "            <td>197100</td>\n",
       "            <td>37101745</td>\n",
       "            <td>188</td>\n",
       "        </tr>\n",
       "    </tbody>\n",
       "</table>"
      ],
      "text/plain": [
       "[('Bangladesh', 130170, 168957745, 1297),\n",
       " ('Korea, South', 96920, 49115196, 506),\n",
       " ('Japan', 364485, 126919659, 348),\n",
       " ('Philippines', 298170, 100998376, 338),\n",
       " ('Vietnam', 310070, 94348835, 304),\n",
       " ('United Kingdom', 241930, 64088222, 264),\n",
       " ('Germany', 348672, 80854408, 231),\n",
       " ('Nepal', 143351, 31551305, 220),\n",
       " ('Italy', 294140, 61855120, 210),\n",
       " ('Uganda', 197100, 37101745, 188)]"
      ]
     },
     "execution_count": 14,
     "metadata": {},
     "output_type": "execute_result"
    }
   ],
   "source": [
    "%%sql\n",
    "-- Identify countries with zero or missing population/land area\n",
    "WITH t1 AS (SELECT name\n",
    "              FROM facts\n",
    "             WHERE population = 0\n",
    "                 OR population IS NULL\n",
    "                 OR area_land = 0\n",
    "                 OR area_land IS NULL\n",
    "           ),\n",
    "\n",
    "-- Calculate population density for countries without missing data  \n",
    "     t2 AS (SELECT name, area_land, population,\n",
    "                   CAST(\n",
    "                        CAST(population AS Float) / \n",
    "                          CAST(area_land AS Float) \n",
    "                      AS Integer) AS population_density\n",
    "              FROM facts\n",
    "             WHERE name NOT IN t1)\n",
    "    \n",
    "-- Isolate countries with high population and low land area\n",
    "SELECT *\n",
    "  FROM t2\n",
    " WHERE area_land < (SELECT AVG(area_land) FROM t2)\n",
    "     AND population > (SELECT AVG(population) FROM t2)\n",
    " ORDER BY population_density DESC\n",
    " LIMIT 10;"
   ]
  },
  {
   "cell_type": "markdown",
   "id": "83f957ef",
   "metadata": {},
   "source": [
    ">- Bangladesh leads in terms of high population and low land area with a population density of 1,297 people per square km. Bangladesh's population density is over two times the values recorded for 2nd-placed South Korea. Japan, the Philippines, and Vietnam follow behind."
   ]
  },
  {
   "cell_type": "markdown",
   "id": "116a47a5",
   "metadata": {},
   "source": [
    "### B. Which countries have the lowest population density?\n",
    "---"
   ]
  },
  {
   "cell_type": "code",
   "execution_count": 15,
   "id": "1275fbd4",
   "metadata": {},
   "outputs": [
    {
     "name": "stdout",
     "output_type": "stream",
     "text": [
      " * sqlite:///factbook.db\n",
      "Done.\n"
     ]
    },
    {
     "data": {
      "text/html": [
       "<table>\n",
       "    <thead>\n",
       "        <tr>\n",
       "            <th>name</th>\n",
       "            <th>area_land</th>\n",
       "            <th>population</th>\n",
       "            <th>population_density</th>\n",
       "        </tr>\n",
       "    </thead>\n",
       "    <tbody>\n",
       "        <tr>\n",
       "            <td>Greenland</td>\n",
       "            <td>2166086</td>\n",
       "            <td>57733</td>\n",
       "            <td>0.027</td>\n",
       "        </tr>\n",
       "        <tr>\n",
       "            <td>Svalbard</td>\n",
       "            <td>62045</td>\n",
       "            <td>1872</td>\n",
       "            <td>0.03</td>\n",
       "        </tr>\n",
       "        <tr>\n",
       "            <td>Falkland Islands (Islas Malvinas)</td>\n",
       "            <td>12173</td>\n",
       "            <td>3361</td>\n",
       "            <td>0.276</td>\n",
       "        </tr>\n",
       "        <tr>\n",
       "            <td>Pitcairn Islands</td>\n",
       "            <td>47</td>\n",
       "            <td>48</td>\n",
       "            <td>1.021</td>\n",
       "        </tr>\n",
       "        <tr>\n",
       "            <td>Mongolia</td>\n",
       "            <td>1553556</td>\n",
       "            <td>2992908</td>\n",
       "            <td>1.926</td>\n",
       "        </tr>\n",
       "        <tr>\n",
       "            <td>Western Sahara</td>\n",
       "            <td>266000</td>\n",
       "            <td>570866</td>\n",
       "            <td>2.146</td>\n",
       "        </tr>\n",
       "        <tr>\n",
       "            <td>Namibia</td>\n",
       "            <td>823290</td>\n",
       "            <td>2212307</td>\n",
       "            <td>2.687</td>\n",
       "        </tr>\n",
       "        <tr>\n",
       "            <td>Australia</td>\n",
       "            <td>7682300</td>\n",
       "            <td>22751014</td>\n",
       "            <td>2.961</td>\n",
       "        </tr>\n",
       "        <tr>\n",
       "            <td>Iceland</td>\n",
       "            <td>100250</td>\n",
       "            <td>331918</td>\n",
       "            <td>3.311</td>\n",
       "        </tr>\n",
       "        <tr>\n",
       "            <td>Mauritania</td>\n",
       "            <td>1030700</td>\n",
       "            <td>3596702</td>\n",
       "            <td>3.49</td>\n",
       "        </tr>\n",
       "    </tbody>\n",
       "</table>"
      ],
      "text/plain": [
       "[('Greenland', 2166086, 57733, 0.027),\n",
       " ('Svalbard', 62045, 1872, 0.03),\n",
       " ('Falkland Islands (Islas Malvinas)', 12173, 3361, 0.276),\n",
       " ('Pitcairn Islands', 47, 48, 1.021),\n",
       " ('Mongolia', 1553556, 2992908, 1.926),\n",
       " ('Western Sahara', 266000, 570866, 2.146),\n",
       " ('Namibia', 823290, 2212307, 2.687),\n",
       " ('Australia', 7682300, 22751014, 2.961),\n",
       " ('Iceland', 100250, 331918, 3.311),\n",
       " ('Mauritania', 1030700, 3596702, 3.49)]"
      ]
     },
     "execution_count": 15,
     "metadata": {},
     "output_type": "execute_result"
    }
   ],
   "source": [
    "%%sql\n",
    "SELECT name, area_land, population,\n",
    "       ROUND(\n",
    "            CAST(population AS Float) / \n",
    "              CAST(area_land AS Float) \n",
    "            , 3) AS population_density\n",
    "  FROM facts\n",
    "-- Filter out countries with zero or missing population/land area\n",
    " WHERE name NOT IN (SELECT name\n",
    "                      FROM facts\n",
    "                     WHERE population = 0\n",
    "                         OR population IS NULL\n",
    "                         OR area_land = 0\n",
    "                         OR area_land IS NULL\n",
    "                   )\n",
    " ORDER BY 4\n",
    " LIMIT 10;"
   ]
  },
  {
   "cell_type": "markdown",
   "id": "898ff15c",
   "metadata": {},
   "source": [
    ">- The world's least-densely populated territory is Greenland, with a rate of 0.027 people per square km. Most of Greenland is covered in ice. \n",
    ">- Svalbard's remote and bitterly cold territory, located north of Norway, comes second on this list (0.03 people per square km). Falkland Island, Pitcairn Island, and Mongolia follow behind.\n",
    "\n",
    "An interesting pattern is that most of these territories are remote, with challenging climate conditions, which may explain the low number of inhabitants (_source: [Worldatlas](https://www.worldatlas.com/articles/the-10-least-densely-populated-places-in-the-world-2015.html)_). \n",
    "\n",
    "Alternatively, we can explore low population density in the following context:\n",
    "$$ \n",
    "Total\\ population < Average\\ world\\ population\\ \\\\\n",
    "AND\\ Land\\ area > World\\ average\\ land\\ area\n",
    "$$"
   ]
  },
  {
   "cell_type": "code",
   "execution_count": 16,
   "id": "ea77253a",
   "metadata": {
    "scrolled": true
   },
   "outputs": [
    {
     "name": "stdout",
     "output_type": "stream",
     "text": [
      " * sqlite:///factbook.db\n",
      "Done.\n"
     ]
    },
    {
     "data": {
      "text/html": [
       "<table>\n",
       "    <thead>\n",
       "        <tr>\n",
       "            <th>name</th>\n",
       "            <th>area_land</th>\n",
       "            <th>population</th>\n",
       "            <th>population_density</th>\n",
       "        </tr>\n",
       "    </thead>\n",
       "    <tbody>\n",
       "        <tr>\n",
       "            <td>Greenland</td>\n",
       "            <td>2166086</td>\n",
       "            <td>57733</td>\n",
       "            <td>0.027</td>\n",
       "        </tr>\n",
       "        <tr>\n",
       "            <td>Mongolia</td>\n",
       "            <td>1553556</td>\n",
       "            <td>2992908</td>\n",
       "            <td>1.926</td>\n",
       "        </tr>\n",
       "        <tr>\n",
       "            <td>Namibia</td>\n",
       "            <td>823290</td>\n",
       "            <td>2212307</td>\n",
       "            <td>2.687</td>\n",
       "        </tr>\n",
       "        <tr>\n",
       "            <td>Australia</td>\n",
       "            <td>7682300</td>\n",
       "            <td>22751014</td>\n",
       "            <td>2.961</td>\n",
       "        </tr>\n",
       "        <tr>\n",
       "            <td>Mauritania</td>\n",
       "            <td>1030700</td>\n",
       "            <td>3596702</td>\n",
       "            <td>3.49</td>\n",
       "        </tr>\n",
       "        <tr>\n",
       "            <td>Libya</td>\n",
       "            <td>1759540</td>\n",
       "            <td>6411776</td>\n",
       "            <td>3.644</td>\n",
       "        </tr>\n",
       "        <tr>\n",
       "            <td>Botswana</td>\n",
       "            <td>566730</td>\n",
       "            <td>2182719</td>\n",
       "            <td>3.851</td>\n",
       "        </tr>\n",
       "        <tr>\n",
       "            <td>Kazakhstan</td>\n",
       "            <td>2699700</td>\n",
       "            <td>18157122</td>\n",
       "            <td>6.726</td>\n",
       "        </tr>\n",
       "        <tr>\n",
       "            <td>Central African Republic</td>\n",
       "            <td>622984</td>\n",
       "            <td>5391539</td>\n",
       "            <td>8.654</td>\n",
       "        </tr>\n",
       "        <tr>\n",
       "            <td>Chad</td>\n",
       "            <td>1259200</td>\n",
       "            <td>11631456</td>\n",
       "            <td>9.237</td>\n",
       "        </tr>\n",
       "    </tbody>\n",
       "</table>"
      ],
      "text/plain": [
       "[('Greenland', 2166086, 57733, 0.027),\n",
       " ('Mongolia', 1553556, 2992908, 1.926),\n",
       " ('Namibia', 823290, 2212307, 2.687),\n",
       " ('Australia', 7682300, 22751014, 2.961),\n",
       " ('Mauritania', 1030700, 3596702, 3.49),\n",
       " ('Libya', 1759540, 6411776, 3.644),\n",
       " ('Botswana', 566730, 2182719, 3.851),\n",
       " ('Kazakhstan', 2699700, 18157122, 6.726),\n",
       " ('Central African Republic', 622984, 5391539, 8.654),\n",
       " ('Chad', 1259200, 11631456, 9.237)]"
      ]
     },
     "execution_count": 16,
     "metadata": {},
     "output_type": "execute_result"
    }
   ],
   "source": [
    "%%sql\n",
    "-- Identify countries with zero or missing population/land area\n",
    "WITH t1 AS (SELECT name\n",
    "              FROM facts\n",
    "             WHERE population = 0\n",
    "                 OR population IS NULL\n",
    "                 OR area_land = 0\n",
    "                 OR area_land IS NULL\n",
    "           ),\n",
    "\n",
    "-- Calculate population density for countries without missing data  \n",
    "     t2 AS (SELECT name, area_land, population,\n",
    "                   ROUND(\n",
    "                        CAST(population AS Float) / \n",
    "                          CAST(area_land AS Float) \n",
    "                        , 3) AS population_density\n",
    "              FROM facts\n",
    "             WHERE name NOT IN t1)\n",
    "    \n",
    "-- Isolate countries with high population and low land area\n",
    "SELECT *\n",
    "  FROM t2\n",
    " WHERE area_land > (SELECT AVG(area_land) FROM t2)\n",
    "     AND population < (SELECT AVG(population) FROM t2)\n",
    " ORDER BY population_density\n",
    " LIMIT 10;"
   ]
  },
  {
   "cell_type": "markdown",
   "id": "0d5239b4",
   "metadata": {},
   "source": [
    ">![](http://www.quickgs.com/wp-content/uploads/2015/05/Greenland-Map.png)\n",
    ">- Greenland remains the world's least-densely populated territory. With a land area of over 2 million square kilometers and only about 58,000 inhabitants, Greenland looks like the number-one recommended spot for those who want to feel like they've left all of humanity behind. \n",
    ">- Based on the new criteria, Mongolia, Namibia, Australia, and Mauritania occupy the 2nd to 5th places, respectively."
   ]
  }
 ],
 "metadata": {
  "kernelspec": {
   "display_name": "Python 3 (ipykernel)",
   "language": "python",
   "name": "python3"
  },
  "language_info": {
   "codemirror_mode": {
    "name": "ipython",
    "version": 3
   },
   "file_extension": ".py",
   "mimetype": "text/x-python",
   "name": "python",
   "nbconvert_exporter": "python",
   "pygments_lexer": "ipython3",
   "version": "3.9.7"
  }
 },
 "nbformat": 4,
 "nbformat_minor": 5
}
