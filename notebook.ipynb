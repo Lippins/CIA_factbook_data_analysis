{
 "cells": [
  {
   "cell_type": "markdown",
   "id": "135a01fd",
   "metadata": {},
   "source": [
    "# CIA Factbook Data Analysis with SQL\n",
    "\n",
    "The CIA factbook, also known as the [World Factbook](https://www.cia.gov/the-world-factbook/), is an annual publication of the US Central Intelligence Agency. It provides basic intelligence by summarizing information about countries and regions worldwide. The factbook contains a mix of demographic and geographic data, among many more.\n",
    "\n",
    "<img src=\"./images/cover_image.png\"/>\n",
    "\n",
    "In this project, we will use SQL in Jupyter Notebook to analyze data from this [SQLite factbook.db](https://dsserver-prod-resources-1.s3.amazonaws.com/257/factbook.db) database. The goal is to identify the leading and lagging territories of the world based on demographic indicators like population, mortality, and fertility.\n",
    "\n",
    "## Connecting to the Database"
   ]
  },
  {
   "cell_type": "code",
   "execution_count": 1,
   "id": "a52ad379",
   "metadata": {},
   "outputs": [],
   "source": [
    "%%capture\n",
    "%load_ext sql\n",
    "%sql sqlite:///factbook.db"
   ]
  },
  {
   "cell_type": "markdown",
   "id": "0338d730",
   "metadata": {},
   "source": [
    "## Understanding the Data\n",
    "---\n",
    "First, let's examine the tables in our database:"
   ]
  },
  {
   "cell_type": "code",
   "execution_count": 2,
   "id": "6499ad80",
   "metadata": {},
   "outputs": [
    {
     "name": "stdout",
     "output_type": "stream",
     "text": [
      " * sqlite:///factbook.db\n",
      "Done.\n"
     ]
    },
    {
     "data": {
      "text/html": [
       "<table>\n",
       "    <thead>\n",
       "        <tr>\n",
       "            <th>type</th>\n",
       "            <th>name</th>\n",
       "            <th>tbl_name</th>\n",
       "            <th>rootpage</th>\n",
       "            <th>sql</th>\n",
       "        </tr>\n",
       "    </thead>\n",
       "    <tbody>\n",
       "        <tr>\n",
       "            <td>table</td>\n",
       "            <td>sqlite_sequence</td>\n",
       "            <td>sqlite_sequence</td>\n",
       "            <td>3</td>\n",
       "            <td>CREATE TABLE sqlite_sequence(name,seq)</td>\n",
       "        </tr>\n",
       "        <tr>\n",
       "            <td>table</td>\n",
       "            <td>facts</td>\n",
       "            <td>facts</td>\n",
       "            <td>47</td>\n",
       "            <td>CREATE TABLE &quot;facts&quot; (&quot;id&quot; INTEGER PRIMARY KEY AUTOINCREMENT NOT NULL, &quot;code&quot; varchar(255) NOT NULL, &quot;name&quot; varchar(255) NOT NULL, &quot;area&quot; integer, &quot;area_land&quot; integer, &quot;area_water&quot; integer, &quot;population&quot; integer, &quot;population_growth&quot; float, &quot;birth_rate&quot; float, &quot;death_rate&quot; float, &quot;migration_rate&quot; float)</td>\n",
       "        </tr>\n",
       "    </tbody>\n",
       "</table>"
      ],
      "text/plain": [
       "[('table', 'sqlite_sequence', 'sqlite_sequence', 3, 'CREATE TABLE sqlite_sequence(name,seq)'),\n",
       " ('table', 'facts', 'facts', 47, 'CREATE TABLE \"facts\" (\"id\" INTEGER PRIMARY KEY AUTOINCREMENT NOT NULL, \"code\" varchar(255) NOT NULL, \"name\" varchar(255) NOT NULL, \"area\" integer, \"a ... (4 characters truncated) ... land\" integer, \"area_water\" integer, \"population\" integer, \"population_growth\" float, \"birth_rate\" float, \"death_rate\" float, \"migration_rate\" float)')]"
      ]
     },
     "execution_count": 2,
     "metadata": {},
     "output_type": "execute_result"
    }
   ],
   "source": [
    "%%sql\n",
    "SELECT *\n",
    "  FROM sqlite_master\n",
    " WHERE type='table';"
   ]
  },
  {
   "cell_type": "markdown",
   "id": "ed2dbd93",
   "metadata": {},
   "source": [
    "#### Notes\n",
    ">- There are two tables in the database, **sqlite_sequence** and **facts**. \n",
    ">- The sqlite_sequence table does not contain any columns. \n",
    ">- The facts table contains information on _population, birth rate, migration rate_ and many more: this is what we need.\n",
    "  \n",
    "We will work with the **facts** table henceforth."
   ]
  },
  {
   "cell_type": "code",
   "execution_count": 3,
   "id": "bc7f5fbd",
   "metadata": {
    "scrolled": true
   },
   "outputs": [
    {
     "name": "stdout",
     "output_type": "stream",
     "text": [
      " * sqlite:///factbook.db\n",
      "Done.\n"
     ]
    },
    {
     "data": {
      "text/html": [
       "<table>\n",
       "    <thead>\n",
       "        <tr>\n",
       "            <th>id</th>\n",
       "            <th>code</th>\n",
       "            <th>name</th>\n",
       "            <th>area</th>\n",
       "            <th>area_land</th>\n",
       "            <th>area_water</th>\n",
       "            <th>population</th>\n",
       "            <th>population_growth</th>\n",
       "            <th>birth_rate</th>\n",
       "            <th>death_rate</th>\n",
       "            <th>migration_rate</th>\n",
       "        </tr>\n",
       "    </thead>\n",
       "    <tbody>\n",
       "        <tr>\n",
       "            <td>1</td>\n",
       "            <td>af</td>\n",
       "            <td>Afghanistan</td>\n",
       "            <td>652230</td>\n",
       "            <td>652230</td>\n",
       "            <td>0</td>\n",
       "            <td>32564342</td>\n",
       "            <td>2.32</td>\n",
       "            <td>38.57</td>\n",
       "            <td>13.89</td>\n",
       "            <td>1.51</td>\n",
       "        </tr>\n",
       "        <tr>\n",
       "            <td>2</td>\n",
       "            <td>al</td>\n",
       "            <td>Albania</td>\n",
       "            <td>28748</td>\n",
       "            <td>27398</td>\n",
       "            <td>1350</td>\n",
       "            <td>3029278</td>\n",
       "            <td>0.3</td>\n",
       "            <td>12.92</td>\n",
       "            <td>6.58</td>\n",
       "            <td>3.3</td>\n",
       "        </tr>\n",
       "        <tr>\n",
       "            <td>3</td>\n",
       "            <td>ag</td>\n",
       "            <td>Algeria</td>\n",
       "            <td>2381741</td>\n",
       "            <td>2381741</td>\n",
       "            <td>0</td>\n",
       "            <td>39542166</td>\n",
       "            <td>1.84</td>\n",
       "            <td>23.67</td>\n",
       "            <td>4.31</td>\n",
       "            <td>0.92</td>\n",
       "        </tr>\n",
       "        <tr>\n",
       "            <td>4</td>\n",
       "            <td>an</td>\n",
       "            <td>Andorra</td>\n",
       "            <td>468</td>\n",
       "            <td>468</td>\n",
       "            <td>0</td>\n",
       "            <td>85580</td>\n",
       "            <td>0.12</td>\n",
       "            <td>8.13</td>\n",
       "            <td>6.96</td>\n",
       "            <td>0.0</td>\n",
       "        </tr>\n",
       "        <tr>\n",
       "            <td>5</td>\n",
       "            <td>ao</td>\n",
       "            <td>Angola</td>\n",
       "            <td>1246700</td>\n",
       "            <td>1246700</td>\n",
       "            <td>0</td>\n",
       "            <td>19625353</td>\n",
       "            <td>2.78</td>\n",
       "            <td>38.78</td>\n",
       "            <td>11.49</td>\n",
       "            <td>0.46</td>\n",
       "        </tr>\n",
       "    </tbody>\n",
       "</table>"
      ],
      "text/plain": [
       "[(1, 'af', 'Afghanistan', 652230, 652230, 0, 32564342, 2.32, 38.57, 13.89, 1.51),\n",
       " (2, 'al', 'Albania', 28748, 27398, 1350, 3029278, 0.3, 12.92, 6.58, 3.3),\n",
       " (3, 'ag', 'Algeria', 2381741, 2381741, 0, 39542166, 1.84, 23.67, 4.31, 0.92),\n",
       " (4, 'an', 'Andorra', 468, 468, 0, 85580, 0.12, 8.13, 6.96, 0.0),\n",
       " (5, 'ao', 'Angola', 1246700, 1246700, 0, 19625353, 2.78, 38.78, 11.49, 0.46)]"
      ]
     },
     "execution_count": 3,
     "metadata": {},
     "output_type": "execute_result"
    }
   ],
   "source": [
    "%%sql\n",
    "-- Examine the first five rows in facts table\n",
    "SELECT *\n",
    "  FROM facts\n",
    " LIMIT 5;"
   ]
  },
  {
   "cell_type": "markdown",
   "id": "f68dd00a",
   "metadata": {},
   "source": [
    "The facts table comprises **11 columns** with intuitive names:\n",
    ">- **id** - Entry row number.\n",
    ">- **code** — The country's [internet code](https://www.cia.gov/the-world-factbook/field/internet-country-code/).\n",
    ">- **name** — Name of the country.\n",
    ">- **area** — The country's total area (both land and water).\n",
    ">- **area_land** — The country's land area in square kilometers.\n",
    ">- **area_water** — The country's water area in square kilometers.\n",
    ">- **population** —  Whole number of people or inhabitants in the country.\n",
    ">- **population_growth** — The country's population growth as a percentage.\n",
    ">- **birth_rate** — The number of births per year per 1,000 inhabitants.\n",
    ">- **death_rate** — The number of deaths per year per 1,000 inhabitants.\n",
    ">- **migration_rate** — The difference between the number of persons entering and leaving the country during the year per 1,000 persons. \n",
    "  \n",
    "Finally, let's check the total number of records in the facts table:"
   ]
  },
  {
   "cell_type": "code",
   "execution_count": 4,
   "id": "1e7e71a3",
   "metadata": {},
   "outputs": [
    {
     "name": "stdout",
     "output_type": "stream",
     "text": [
      " * sqlite:///factbook.db\n",
      "Done.\n"
     ]
    },
    {
     "data": {
      "text/html": [
       "<table>\n",
       "    <thead>\n",
       "        <tr>\n",
       "            <th>num_records</th>\n",
       "            <th>unique_countries</th>\n",
       "        </tr>\n",
       "    </thead>\n",
       "    <tbody>\n",
       "        <tr>\n",
       "            <td>261</td>\n",
       "            <td>261</td>\n",
       "        </tr>\n",
       "    </tbody>\n",
       "</table>"
      ],
      "text/plain": [
       "[(261, 261)]"
      ]
     },
     "execution_count": 4,
     "metadata": {},
     "output_type": "execute_result"
    }
   ],
   "source": [
    "%%sql\n",
    "-- Calculate the total number of records\n",
    "SELECT COUNT(*) AS num_records,\n",
    "       COUNT(DISTINCT name) AS unique_countries\n",
    "  FROM facts;"
   ]
  },
  {
   "cell_type": "markdown",
   "id": "31b57aed",
   "metadata": {},
   "source": [
    "261 records and countries seem unintuitive! We know there are only 195 countries in the world right now. \n",
    "\n",
    "The answer lies in the way the CIA categorizes its information. As of July 2011, The World Factbook comprises 267 **entities** divided into the following categories:\n",
    ">- **Independent countries:** The CIA defines these as people \"politically organized into a sovereign state with a definite territory.\" There are 195 entities in this category.\n",
    ">- **Others:** Places set apart from the list of independent countries. Currently, there are two: Taiwan and the European Union.\n",
    ">- **Dependencies and Areas of Special Sovereignty:** Places affiliated with another country. There are 58 in total.\n",
    ">- **Miscellaneous:** Antarctica and places in dispute. There are six such entities.\n",
    ">- **Other entities:** The world and the oceans. There are five oceans and the world (the World entry is intended as a summary of the other entries).\n",
    "\n",
    "Additional information about this classification can be found in the [world factbook wikipedia page](https://en.wikipedia.org/wiki/The_World_Factbook#:~:text=Entities%20listed,-Main%20article%3A%20List&text=The%20CIA%20defines%20these%20as,category%2C%20there%20are%20195%20entities.&text=Places%20set%20apart%20from%20the,Taiwan%20and%20the%20European%20Union.).\n",
    "\n",
    "We can check for these occurrences in our data:"
   ]
  },
  {
   "cell_type": "code",
   "execution_count": 5,
   "id": "78695675",
   "metadata": {
    "scrolled": false
   },
   "outputs": [
    {
     "name": "stdout",
     "output_type": "stream",
     "text": [
      " * sqlite:///factbook.db\n",
      "Done.\n"
     ]
    },
    {
     "data": {
      "text/html": [
       "<table>\n",
       "    <thead>\n",
       "        <tr>\n",
       "            <th>id</th>\n",
       "            <th>code</th>\n",
       "            <th>name</th>\n",
       "            <th>area</th>\n",
       "            <th>area_land</th>\n",
       "            <th>area_water</th>\n",
       "            <th>population</th>\n",
       "            <th>population_growth</th>\n",
       "            <th>birth_rate</th>\n",
       "            <th>death_rate</th>\n",
       "            <th>migration_rate</th>\n",
       "        </tr>\n",
       "    </thead>\n",
       "    <tbody>\n",
       "        <tr>\n",
       "            <td>197</td>\n",
       "            <td>ee</td>\n",
       "            <td>European Union</td>\n",
       "            <td>4324782</td>\n",
       "            <td>None</td>\n",
       "            <td>None</td>\n",
       "            <td>513949445</td>\n",
       "            <td>0.25</td>\n",
       "            <td>10.2</td>\n",
       "            <td>10.2</td>\n",
       "            <td>2.5</td>\n",
       "        </tr>\n",
       "        <tr>\n",
       "            <td>199</td>\n",
       "            <td>kt</td>\n",
       "            <td>Christmas Island</td>\n",
       "            <td>135</td>\n",
       "            <td>135</td>\n",
       "            <td>0</td>\n",
       "            <td>1530</td>\n",
       "            <td>1.11</td>\n",
       "            <td>None</td>\n",
       "            <td>None</td>\n",
       "            <td>None</td>\n",
       "        </tr>\n",
       "        <tr>\n",
       "            <td>203</td>\n",
       "            <td>nf</td>\n",
       "            <td>Norfolk Island</td>\n",
       "            <td>36</td>\n",
       "            <td>36</td>\n",
       "            <td>0</td>\n",
       "            <td>2210</td>\n",
       "            <td>0.01</td>\n",
       "            <td>None</td>\n",
       "            <td>None</td>\n",
       "            <td>None</td>\n",
       "        </tr>\n",
       "        <tr>\n",
       "            <td>208</td>\n",
       "            <td>ip</td>\n",
       "            <td>Clipperton Island</td>\n",
       "            <td>6</td>\n",
       "            <td>6</td>\n",
       "            <td>0</td>\n",
       "            <td>None</td>\n",
       "            <td>None</td>\n",
       "            <td>None</td>\n",
       "            <td>None</td>\n",
       "            <td>None</td>\n",
       "        </tr>\n",
       "        <tr>\n",
       "            <td>222</td>\n",
       "            <td>bv</td>\n",
       "            <td>Bouvet Island</td>\n",
       "            <td>49</td>\n",
       "            <td>49</td>\n",
       "            <td>0</td>\n",
       "            <td>None</td>\n",
       "            <td>None</td>\n",
       "            <td>None</td>\n",
       "            <td>None</td>\n",
       "            <td>None</td>\n",
       "        </tr>\n",
       "        <tr>\n",
       "            <td>244</td>\n",
       "            <td>bq</td>\n",
       "            <td>Navassa Island</td>\n",
       "            <td>5</td>\n",
       "            <td>5</td>\n",
       "            <td>0</td>\n",
       "            <td>None</td>\n",
       "            <td>None</td>\n",
       "            <td>None</td>\n",
       "            <td>None</td>\n",
       "            <td>None</td>\n",
       "        </tr>\n",
       "        <tr>\n",
       "            <td>248</td>\n",
       "            <td>wq</td>\n",
       "            <td>Wake Island</td>\n",
       "            <td>6</td>\n",
       "            <td>6</td>\n",
       "            <td>0</td>\n",
       "            <td>None</td>\n",
       "            <td>None</td>\n",
       "            <td>None</td>\n",
       "            <td>None</td>\n",
       "            <td>None</td>\n",
       "        </tr>\n",
       "        <tr>\n",
       "            <td>256</td>\n",
       "            <td>xq</td>\n",
       "            <td>Arctic Ocean</td>\n",
       "            <td>None</td>\n",
       "            <td>None</td>\n",
       "            <td>None</td>\n",
       "            <td>None</td>\n",
       "            <td>None</td>\n",
       "            <td>None</td>\n",
       "            <td>None</td>\n",
       "            <td>None</td>\n",
       "        </tr>\n",
       "        <tr>\n",
       "            <td>257</td>\n",
       "            <td>zh</td>\n",
       "            <td>Atlantic Ocean</td>\n",
       "            <td>None</td>\n",
       "            <td>None</td>\n",
       "            <td>None</td>\n",
       "            <td>None</td>\n",
       "            <td>None</td>\n",
       "            <td>None</td>\n",
       "            <td>None</td>\n",
       "            <td>None</td>\n",
       "        </tr>\n",
       "        <tr>\n",
       "            <td>258</td>\n",
       "            <td>xo</td>\n",
       "            <td>Indian Ocean</td>\n",
       "            <td>None</td>\n",
       "            <td>None</td>\n",
       "            <td>None</td>\n",
       "            <td>None</td>\n",
       "            <td>None</td>\n",
       "            <td>None</td>\n",
       "            <td>None</td>\n",
       "            <td>None</td>\n",
       "        </tr>\n",
       "        <tr>\n",
       "            <td>259</td>\n",
       "            <td>zn</td>\n",
       "            <td>Pacific Ocean</td>\n",
       "            <td>None</td>\n",
       "            <td>None</td>\n",
       "            <td>None</td>\n",
       "            <td>None</td>\n",
       "            <td>None</td>\n",
       "            <td>None</td>\n",
       "            <td>None</td>\n",
       "            <td>None</td>\n",
       "        </tr>\n",
       "        <tr>\n",
       "            <td>260</td>\n",
       "            <td>oo</td>\n",
       "            <td>Southern Ocean</td>\n",
       "            <td>None</td>\n",
       "            <td>None</td>\n",
       "            <td>None</td>\n",
       "            <td>None</td>\n",
       "            <td>None</td>\n",
       "            <td>None</td>\n",
       "            <td>None</td>\n",
       "            <td>None</td>\n",
       "        </tr>\n",
       "        <tr>\n",
       "            <td>261</td>\n",
       "            <td>xx</td>\n",
       "            <td>World</td>\n",
       "            <td>None</td>\n",
       "            <td>None</td>\n",
       "            <td>None</td>\n",
       "            <td>7256490011</td>\n",
       "            <td>1.08</td>\n",
       "            <td>18.6</td>\n",
       "            <td>7.8</td>\n",
       "            <td>None</td>\n",
       "        </tr>\n",
       "    </tbody>\n",
       "</table>"
      ],
      "text/plain": [
       "[(197, 'ee', 'European Union', 4324782, None, None, 513949445, 0.25, 10.2, 10.2, 2.5),\n",
       " (199, 'kt', 'Christmas Island', 135, 135, 0, 1530, 1.11, None, None, None),\n",
       " (203, 'nf', 'Norfolk Island', 36, 36, 0, 2210, 0.01, None, None, None),\n",
       " (208, 'ip', 'Clipperton Island', 6, 6, 0, None, None, None, None, None),\n",
       " (222, 'bv', 'Bouvet Island', 49, 49, 0, None, None, None, None, None),\n",
       " (244, 'bq', 'Navassa Island', 5, 5, 0, None, None, None, None, None),\n",
       " (248, 'wq', 'Wake Island', 6, 6, 0, None, None, None, None, None),\n",
       " (256, 'xq', 'Arctic Ocean', None, None, None, None, None, None, None, None),\n",
       " (257, 'zh', 'Atlantic Ocean', None, None, None, None, None, None, None, None),\n",
       " (258, 'xo', 'Indian Ocean', None, None, None, None, None, None, None, None),\n",
       " (259, 'zn', 'Pacific Ocean', None, None, None, None, None, None, None, None),\n",
       " (260, 'oo', 'Southern Ocean', None, None, None, None, None, None, None, None),\n",
       " (261, 'xx', 'World', None, None, None, 7256490011, 1.08, 18.6, 7.8, None)]"
      ]
     },
     "execution_count": 5,
     "metadata": {},
     "output_type": "execute_result"
    }
   ],
   "source": [
    "%%sql\n",
    "-- check for some instances of \"non-country\" data\n",
    "SELECT *\n",
    "  FROM facts\n",
    " WHERE name LIKE '%union' \n",
    "    OR name LIKE '%ocean'\n",
    "    OR name LIKE '%island'\n",
    "    OR name = 'World';"
   ]
  },
  {
   "cell_type": "markdown",
   "id": "fa0f0af8",
   "metadata": {},
   "source": [
    ">- Since these occurrences are present, we should be careful to avoid their influence on the analysis process.\n",
    "  \n",
    "We can now proceed to analysis with _some_ understanding of the data and potential pitfalls to look out for.\n",
    "\n",
    "## Exploring Total Population\n",
    "---\n",
    "To understand how population values are distributed in the data, we can compute the population summary statics: the minimum, mean and maximum."
   ]
  },
  {
   "cell_type": "code",
   "execution_count": 6,
   "id": "56a6fc70",
   "metadata": {
    "scrolled": true
   },
   "outputs": [
    {
     "name": "stdout",
     "output_type": "stream",
     "text": [
      " * sqlite:///factbook.db\n",
      "Done.\n"
     ]
    },
    {
     "data": {
      "text/html": [
       "<table>\n",
       "    <thead>\n",
       "        <tr>\n",
       "            <th>min_population</th>\n",
       "            <th>avg_population</th>\n",
       "            <th>max_pop</th>\n",
       "        </tr>\n",
       "    </thead>\n",
       "    <tbody>\n",
       "        <tr>\n",
       "            <td>0</td>\n",
       "            <td>62094928</td>\n",
       "            <td>7256490011</td>\n",
       "        </tr>\n",
       "    </tbody>\n",
       "</table>"
      ],
      "text/plain": [
       "[(0, 62094928, 7256490011)]"
      ]
     },
     "execution_count": 6,
     "metadata": {},
     "output_type": "execute_result"
    }
   ],
   "source": [
    "%%sql \n",
    "SELECT MIN(population) AS min_population,\n",
    "       CAST(AVG(population) AS Integer) AS avg_population,\n",
    "       MAX(population) AS max_pop\n",
    "  FROM facts;"
   ]
  },
  {
   "cell_type": "markdown",
   "id": "05cf5785",
   "metadata": {},
   "source": [
    "Surprising! Some countries/entities have no inhabitants. Another entity has a population of over 7 billion people. This population seems too good to be true since the world population is currently at [7.96 billion](https://www.worldometers.info/world-population) _(Worldometer Aug, 2022)_. It is best to identify what these entities are:"
   ]
  },
  {
   "cell_type": "code",
   "execution_count": 7,
   "id": "218af064",
   "metadata": {},
   "outputs": [
    {
     "name": "stdout",
     "output_type": "stream",
     "text": [
      " * sqlite:///factbook.db\n",
      "Done.\n"
     ]
    },
    {
     "data": {
      "text/html": [
       "<table>\n",
       "    <thead>\n",
       "        <tr>\n",
       "            <th>name</th>\n",
       "            <th>population</th>\n",
       "        </tr>\n",
       "    </thead>\n",
       "    <tbody>\n",
       "        <tr>\n",
       "            <td>Antarctica</td>\n",
       "            <td>0</td>\n",
       "        </tr>\n",
       "        <tr>\n",
       "            <td>World</td>\n",
       "            <td>7256490011</td>\n",
       "        </tr>\n",
       "    </tbody>\n",
       "</table>"
      ],
      "text/plain": [
       "[('Antarctica', 0), ('World', 7256490011)]"
      ]
     },
     "execution_count": 7,
     "metadata": {},
     "output_type": "execute_result"
    }
   ],
   "source": [
    "%%sql \n",
    "-- Investigate the unusual countries/entities\n",
    "SELECT name, population\n",
    "  FROM facts\n",
    " WHERE population = (SELECT MIN(population) FROM facts) \n",
    "    OR population = (SELECT MAX(population) FROM facts);"
   ]
  },
  {
   "cell_type": "markdown",
   "id": "e2f3a63c",
   "metadata": {},
   "source": [
    "Similar to earlier observations, the presence of entries like _World_ and _Antarctica_ explains the unusual population values. According to the [World population review](https://worldpopulationreview.com/continents/antarctica-population), Antarctica has no indigenous inhabitants, only research staff occasionally present at its many research stations. \n",
    "\n",
    "Another interesting thing to note is the world population value (7,256,490,011). A quick search of world population trends reveals that the CIA could have compiled the facts data between 2014 and 2015.<br>\n",
    "<img src=\"./images/world_population.png\" \n",
    "     height=\"300\" \n",
    "     width=\"300\"\n",
    "     align=\"left\"/>\n",
    "<div style='clear:both;'></div>\n",
    "\n",
    "_**Image source:** [Worldometer](https://www.worldometers.info/world-population/world-population-by-year/)_.\n",
    "\n",
    "With these outliers in mind, we can compute  a more appropriate descriptive statistics."
   ]
  },
  {
   "cell_type": "code",
   "execution_count": 8,
   "id": "04ad5c59",
   "metadata": {},
   "outputs": [
    {
     "name": "stdout",
     "output_type": "stream",
     "text": [
      " * sqlite:///factbook.db\n",
      "Done.\n"
     ]
    },
    {
     "data": {
      "text/html": [
       "<table>\n",
       "    <thead>\n",
       "        <tr>\n",
       "            <th>min_pop</th>\n",
       "            <th>avg_pop</th>\n",
       "            <th>max_pop</th>\n",
       "        </tr>\n",
       "    </thead>\n",
       "    <tbody>\n",
       "        <tr>\n",
       "            <td>48</td>\n",
       "            <td>32377011</td>\n",
       "            <td>1367485388</td>\n",
       "        </tr>\n",
       "    </tbody>\n",
       "</table>"
      ],
      "text/plain": [
       "[(48, 32377011, 1367485388)]"
      ]
     },
     "execution_count": 8,
     "metadata": {},
     "output_type": "execute_result"
    }
   ],
   "source": [
    "%%sql \n",
    "SELECT MIN(population) AS min_pop,\n",
    "       CAST(AVG(population) AS Integer) AS avg_pop,\n",
    "       MAX(population) AS max_pop\n",
    "  FROM facts\n",
    " WHERE population != 0 \n",
    "   AND name != 'World';"
   ]
  },
  {
   "cell_type": "markdown",
   "id": "1ab7b98b",
   "metadata": {},
   "source": [
    "The minimum population is 48, and the maximum is over 1.3 billion—the average population centers around 32 million inhabitants. We can now identify the highest and least populated countries or entities.\n",
    "\n",
    "### A. The top 5 countries in terms of total population.\n",
    "---"
   ]
  },
  {
   "cell_type": "code",
   "execution_count": 9,
   "id": "86ec6f12",
   "metadata": {},
   "outputs": [
    {
     "name": "stdout",
     "output_type": "stream",
     "text": [
      " * sqlite:///factbook.db\n",
      "Done.\n"
     ]
    },
    {
     "data": {
      "text/html": [
       "<table>\n",
       "    <thead>\n",
       "        <tr>\n",
       "            <th>top_5_populated</th>\n",
       "            <th>population</th>\n",
       "        </tr>\n",
       "    </thead>\n",
       "    <tbody>\n",
       "        <tr>\n",
       "            <td>China</td>\n",
       "            <td>1367485388</td>\n",
       "        </tr>\n",
       "        <tr>\n",
       "            <td>India</td>\n",
       "            <td>1251695584</td>\n",
       "        </tr>\n",
       "        <tr>\n",
       "            <td>European Union</td>\n",
       "            <td>513949445</td>\n",
       "        </tr>\n",
       "        <tr>\n",
       "            <td>United States</td>\n",
       "            <td>321368864</td>\n",
       "        </tr>\n",
       "        <tr>\n",
       "            <td>Indonesia</td>\n",
       "            <td>255993674</td>\n",
       "        </tr>\n",
       "    </tbody>\n",
       "</table>"
      ],
      "text/plain": [
       "[('China', 1367485388),\n",
       " ('India', 1251695584),\n",
       " ('European Union', 513949445),\n",
       " ('United States', 321368864),\n",
       " ('Indonesia', 255993674)]"
      ]
     },
     "execution_count": 9,
     "metadata": {},
     "output_type": "execute_result"
    }
   ],
   "source": [
    "%%sql \n",
    "SELECT name AS top_5_populated,\n",
    "       population\n",
    "  FROM facts\n",
    " WHERE population <> 0 \n",
    "   AND name <> 'World'\n",
    " ORDER BY 2 DESC\n",
    " LIMIT 5;"
   ]
  },
  {
   "cell_type": "markdown",
   "id": "b5c1b0e4",
   "metadata": {},
   "source": [
    "The European Union is not a country; it is better to filter out the EU. As an extra step, we will calculate the proportion of the world's population contained in each country."
   ]
  },
  {
   "cell_type": "code",
   "execution_count": 10,
   "id": "217377e3",
   "metadata": {},
   "outputs": [
    {
     "name": "stdout",
     "output_type": "stream",
     "text": [
      " * sqlite:///factbook.db\n",
      "Done.\n"
     ]
    },
    {
     "data": {
      "text/html": [
       "<table>\n",
       "    <thead>\n",
       "        <tr>\n",
       "            <th>5 Most Populated Countries</th>\n",
       "            <th>population</th>\n",
       "            <th>world_proportion</th>\n",
       "        </tr>\n",
       "    </thead>\n",
       "    <tbody>\n",
       "        <tr>\n",
       "            <td>China</td>\n",
       "            <td>1367485388</td>\n",
       "            <td>0.188</td>\n",
       "        </tr>\n",
       "        <tr>\n",
       "            <td>India</td>\n",
       "            <td>1251695584</td>\n",
       "            <td>0.172</td>\n",
       "        </tr>\n",
       "        <tr>\n",
       "            <td>United States</td>\n",
       "            <td>321368864</td>\n",
       "            <td>0.044</td>\n",
       "        </tr>\n",
       "        <tr>\n",
       "            <td>Indonesia</td>\n",
       "            <td>255993674</td>\n",
       "            <td>0.035</td>\n",
       "        </tr>\n",
       "        <tr>\n",
       "            <td>Brazil</td>\n",
       "            <td>204259812</td>\n",
       "            <td>0.028</td>\n",
       "        </tr>\n",
       "    </tbody>\n",
       "</table>"
      ],
      "text/plain": [
       "[('China', 1367485388, 0.188),\n",
       " ('India', 1251695584, 0.172),\n",
       " ('United States', 321368864, 0.044),\n",
       " ('Indonesia', 255993674, 0.035),\n",
       " ('Brazil', 204259812, 0.028)]"
      ]
     },
     "execution_count": 10,
     "metadata": {},
     "output_type": "execute_result"
    }
   ],
   "source": [
    "%%sql \n",
    "SELECT name AS \"5 Most Populated Countries\",\n",
    "       population,\n",
    "       ROUND(\n",
    "              CAST(population AS Float) / \n",
    "              CAST((SELECT MAX(population) FROM facts) AS Float)\n",
    "             , 3) AS world_proportion\n",
    "  FROM facts\n",
    " WHERE population <> 0 \n",
    "   AND name NOT IN ('World', 'European Union')\n",
    " ORDER BY 2 DESC\n",
    " LIMIT 5;"
   ]
  },
  {
   "cell_type": "markdown",
   "id": "b065360e",
   "metadata": {},
   "source": [
    ">- China is the world's most populated country, with about 1.37 billion people. India follows behind with about 1.26 billion people. **36%** of the world's total population comes from China (18.8%) and India (17.2%) alone.\n",
    ">- The United States (4.4% of the world total), Indonesia (3.5%), and Brazil (2.8%) follow far behind and constitute a combined **11%** of the world's population. \n",
    ">- Altogether the top 5 countries contribute **46%** to the global population.\n",
    "\n",
    "### B. Countries with the smallest total population\n",
    "---"
   ]
  },
  {
   "cell_type": "code",
   "execution_count": 11,
   "id": "6fe0dc07",
   "metadata": {
    "scrolled": true
   },
   "outputs": [
    {
     "name": "stdout",
     "output_type": "stream",
     "text": [
      " * sqlite:///factbook.db\n",
      "Done.\n"
     ]
    },
    {
     "data": {
      "text/html": [
       "<table>\n",
       "    <thead>\n",
       "        <tr>\n",
       "            <th>5 Least Populated Countries</th>\n",
       "            <th>population</th>\n",
       "        </tr>\n",
       "    </thead>\n",
       "    <tbody>\n",
       "        <tr>\n",
       "            <td>Pitcairn Islands</td>\n",
       "            <td>48</td>\n",
       "        </tr>\n",
       "        <tr>\n",
       "            <td>Cocos (Keeling) Islands</td>\n",
       "            <td>596</td>\n",
       "        </tr>\n",
       "        <tr>\n",
       "            <td>Holy See (Vatican City)</td>\n",
       "            <td>842</td>\n",
       "        </tr>\n",
       "        <tr>\n",
       "            <td>Niue</td>\n",
       "            <td>1190</td>\n",
       "        </tr>\n",
       "        <tr>\n",
       "            <td>Tokelau</td>\n",
       "            <td>1337</td>\n",
       "        </tr>\n",
       "    </tbody>\n",
       "</table>"
      ],
      "text/plain": [
       "[('Pitcairn Islands', 48),\n",
       " ('Cocos (Keeling) Islands', 596),\n",
       " ('Holy See (Vatican City)', 842),\n",
       " ('Niue', 1190),\n",
       " ('Tokelau', 1337)]"
      ]
     },
     "execution_count": 11,
     "metadata": {},
     "output_type": "execute_result"
    }
   ],
   "source": [
    "%%sql \n",
    "SELECT name AS \"5 Least Populated Countries\",\n",
    "       population\n",
    "  FROM facts\n",
    " WHERE population <> 0 \n",
    "   AND name <> 'Antartica'\n",
    " ORDER BY 2\n",
    " LIMIT 5;"
   ]
  },
  {
   "cell_type": "markdown",
   "id": "9f8e3806",
   "metadata": {},
   "source": [
    ">- The least populated territories are the Pitcairn Islands (48 inhabitants), Cocos Islands (596), Holy See (842), Niue (1190), and Tokelau (1337).\n",
    "\n",
    "Asides from the Holy See, the universal government of the Catholic Church that operates from the Vatican City, the least populated countries are dependencies. Pitcairn Island is a dependency of the United Kingdom; Cocos Island is a dependency of Australia; Niue and Tokelau are dependencies of New Zealand. [Here](https://www.worldatlas.com/geography/dependencies-and-territories-of-the-world.html) is a list of the world's dependencies at the moment.\n",
    "\n",
    "## Exploring population density\n",
    "---\n",
    "\n",
    "<img src='./images/population_density.png'/>\n",
    "\n",
    "[National Geographic](https://education.nationalgeographic.org/resource/population-density) puts this in simple terms. Population density is the concentration of individuals within a species in a specific geographic locale. Population density data can be used to quantify demographic information and to assess relationships with ecosystems, human health, and infrastructure.\n",
    "\n",
    "Our data provides variables that we can use to estimate population density as follows:\n",
    "$$ \n",
    "Population\\ density = \\frac{Total\\ population}{Land\\ area\\ (km^2)}\n",
    "$$\n",
    "\n",
    "Before computing population densities for each country, let's scan for territories where population density or the land area may be zero or null."
   ]
  },
  {
   "cell_type": "code",
   "execution_count": 12,
   "id": "0bfb8a30",
   "metadata": {
    "scrolled": true
   },
   "outputs": [
    {
     "name": "stdout",
     "output_type": "stream",
     "text": [
      " * sqlite:///factbook.db\n",
      "Done.\n"
     ]
    },
    {
     "data": {
      "text/html": [
       "<table>\n",
       "    <thead>\n",
       "        <tr>\n",
       "            <th>COUNT(*)</th>\n",
       "        </tr>\n",
       "    </thead>\n",
       "    <tbody>\n",
       "        <tr>\n",
       "            <td>29</td>\n",
       "        </tr>\n",
       "    </tbody>\n",
       "</table>"
      ],
      "text/plain": [
       "[(29,)]"
      ]
     },
     "execution_count": 12,
     "metadata": {},
     "output_type": "execute_result"
    }
   ],
   "source": [
    "%%sql\n",
    "SELECT COUNT(*)\n",
    "  FROM facts\n",
    " WHERE population = 0\n",
    "     OR population IS NULL\n",
    "     OR area_land = 0\n",
    "     OR area_land IS NULL;"
   ]
  },
  {
   "cell_type": "markdown",
   "id": "45db5610",
   "metadata": {},
   "source": [
    "Indeed, 29 records meet these criteria. We will exclude these records.\n",
    "\n",
    "### A. Countries with the highest population density.\n",
    "---"
   ]
  },
  {
   "cell_type": "code",
   "execution_count": 13,
   "id": "b4fd3250",
   "metadata": {
    "scrolled": true
   },
   "outputs": [
    {
     "name": "stdout",
     "output_type": "stream",
     "text": [
      " * sqlite:///factbook.db\n",
      "Done.\n"
     ]
    },
    {
     "data": {
      "text/html": [
       "<table>\n",
       "    <thead>\n",
       "        <tr>\n",
       "            <th>name</th>\n",
       "            <th>area_land</th>\n",
       "            <th>population</th>\n",
       "            <th>population_density</th>\n",
       "        </tr>\n",
       "    </thead>\n",
       "    <tbody>\n",
       "        <tr>\n",
       "            <td>Macau</td>\n",
       "            <td>28</td>\n",
       "            <td>592731</td>\n",
       "            <td>21168</td>\n",
       "        </tr>\n",
       "        <tr>\n",
       "            <td>Monaco</td>\n",
       "            <td>2</td>\n",
       "            <td>30535</td>\n",
       "            <td>15267</td>\n",
       "        </tr>\n",
       "        <tr>\n",
       "            <td>Singapore</td>\n",
       "            <td>687</td>\n",
       "            <td>5674472</td>\n",
       "            <td>8259</td>\n",
       "        </tr>\n",
       "        <tr>\n",
       "            <td>Hong Kong</td>\n",
       "            <td>1073</td>\n",
       "            <td>7141106</td>\n",
       "            <td>6655</td>\n",
       "        </tr>\n",
       "        <tr>\n",
       "            <td>Gaza Strip</td>\n",
       "            <td>360</td>\n",
       "            <td>1869055</td>\n",
       "            <td>5191</td>\n",
       "        </tr>\n",
       "        <tr>\n",
       "            <td>Gibraltar</td>\n",
       "            <td>6</td>\n",
       "            <td>29258</td>\n",
       "            <td>4876</td>\n",
       "        </tr>\n",
       "        <tr>\n",
       "            <td>Bahrain</td>\n",
       "            <td>760</td>\n",
       "            <td>1346613</td>\n",
       "            <td>1771</td>\n",
       "        </tr>\n",
       "        <tr>\n",
       "            <td>Maldives</td>\n",
       "            <td>298</td>\n",
       "            <td>393253</td>\n",
       "            <td>1319</td>\n",
       "        </tr>\n",
       "        <tr>\n",
       "            <td>Malta</td>\n",
       "            <td>316</td>\n",
       "            <td>413965</td>\n",
       "            <td>1310</td>\n",
       "        </tr>\n",
       "        <tr>\n",
       "            <td>Bermuda</td>\n",
       "            <td>54</td>\n",
       "            <td>70196</td>\n",
       "            <td>1299</td>\n",
       "        </tr>\n",
       "    </tbody>\n",
       "</table>"
      ],
      "text/plain": [
       "[('Macau', 28, 592731, 21168),\n",
       " ('Monaco', 2, 30535, 15267),\n",
       " ('Singapore', 687, 5674472, 8259),\n",
       " ('Hong Kong', 1073, 7141106, 6655),\n",
       " ('Gaza Strip', 360, 1869055, 5191),\n",
       " ('Gibraltar', 6, 29258, 4876),\n",
       " ('Bahrain', 760, 1346613, 1771),\n",
       " ('Maldives', 298, 393253, 1319),\n",
       " ('Malta', 316, 413965, 1310),\n",
       " ('Bermuda', 54, 70196, 1299)]"
      ]
     },
     "execution_count": 13,
     "metadata": {},
     "output_type": "execute_result"
    }
   ],
   "source": [
    "%%sql\n",
    "SELECT name, area_land, population,\n",
    "       CAST(\n",
    "            CAST(population AS Float) / \n",
    "              CAST(area_land AS Float) \n",
    "           AS Integer) AS population_density\n",
    "  FROM facts\n",
    "-- Filter out countries with zero or missing population/land area\n",
    " WHERE name NOT IN (SELECT name\n",
    "                      FROM facts\n",
    "                     WHERE population = 0\n",
    "                         OR population IS NULL\n",
    "                         OR area_land = 0\n",
    "                         OR area_land IS NULL\n",
    "                   )\n",
    " ORDER BY 4 DESC\n",
    " LIMIT 10;"
   ]
  },
  {
   "cell_type": "markdown",
   "id": "63711da7",
   "metadata": {},
   "source": [
    ">- The Chinese territory of Macau has the world's highest population density at 21,168km². Three of the top five entries are territories rather than countries, with first-place Macau joined by fellow Chinese territory Hong Kong in 4th place and the Palestine-controlled Gaza Strip in 5th.\n",
    "\n",
    "Notably, all of these locations are tiny. The top five have a combined land area of less than 3,000 km². Moreover, most are also highly urbanized centers of wealth and finance, with a tendency toward cities and skyscrapers rather than rolling fields or vast wilderness areas ([see here](https://worldpopulationreview.com/country-rankings/countries-by-density)).\n",
    "\n",
    "Perhaps we could \"redefine\" a densely populated country to address the possible bias above. In our case, we will define a densely populated territory as one with a lower land area and a higher number of inhabitants compared to other territories. \n",
    "\n",
    "$$ \n",
    "For\\ a\\ densely\\ populated\\ country\\ or\\ territory:\\ \\\\\n",
    "Total\\ population > Average\\ world\\ population\\ \\\\\n",
    "AND\\ Land\\ area < World\\ average\\ land\\ area\n",
    "$$\n",
    "\n",
    "We can use this new rule to identify the most densely populated countries:"
   ]
  },
  {
   "cell_type": "code",
   "execution_count": 14,
   "id": "be93b098",
   "metadata": {
    "scrolled": true
   },
   "outputs": [
    {
     "name": "stdout",
     "output_type": "stream",
     "text": [
      " * sqlite:///factbook.db\n",
      "Done.\n"
     ]
    },
    {
     "data": {
      "text/html": [
       "<table>\n",
       "    <thead>\n",
       "        <tr>\n",
       "            <th>name</th>\n",
       "            <th>area_land</th>\n",
       "            <th>population</th>\n",
       "            <th>population_density</th>\n",
       "        </tr>\n",
       "    </thead>\n",
       "    <tbody>\n",
       "        <tr>\n",
       "            <td>Bangladesh</td>\n",
       "            <td>130170</td>\n",
       "            <td>168957745</td>\n",
       "            <td>1297</td>\n",
       "        </tr>\n",
       "        <tr>\n",
       "            <td>Korea, South</td>\n",
       "            <td>96920</td>\n",
       "            <td>49115196</td>\n",
       "            <td>506</td>\n",
       "        </tr>\n",
       "        <tr>\n",
       "            <td>Japan</td>\n",
       "            <td>364485</td>\n",
       "            <td>126919659</td>\n",
       "            <td>348</td>\n",
       "        </tr>\n",
       "        <tr>\n",
       "            <td>Philippines</td>\n",
       "            <td>298170</td>\n",
       "            <td>100998376</td>\n",
       "            <td>338</td>\n",
       "        </tr>\n",
       "        <tr>\n",
       "            <td>Vietnam</td>\n",
       "            <td>310070</td>\n",
       "            <td>94348835</td>\n",
       "            <td>304</td>\n",
       "        </tr>\n",
       "        <tr>\n",
       "            <td>United Kingdom</td>\n",
       "            <td>241930</td>\n",
       "            <td>64088222</td>\n",
       "            <td>264</td>\n",
       "        </tr>\n",
       "        <tr>\n",
       "            <td>Germany</td>\n",
       "            <td>348672</td>\n",
       "            <td>80854408</td>\n",
       "            <td>231</td>\n",
       "        </tr>\n",
       "        <tr>\n",
       "            <td>Nepal</td>\n",
       "            <td>143351</td>\n",
       "            <td>31551305</td>\n",
       "            <td>220</td>\n",
       "        </tr>\n",
       "        <tr>\n",
       "            <td>Italy</td>\n",
       "            <td>294140</td>\n",
       "            <td>61855120</td>\n",
       "            <td>210</td>\n",
       "        </tr>\n",
       "        <tr>\n",
       "            <td>Uganda</td>\n",
       "            <td>197100</td>\n",
       "            <td>37101745</td>\n",
       "            <td>188</td>\n",
       "        </tr>\n",
       "    </tbody>\n",
       "</table>"
      ],
      "text/plain": [
       "[('Bangladesh', 130170, 168957745, 1297),\n",
       " ('Korea, South', 96920, 49115196, 506),\n",
       " ('Japan', 364485, 126919659, 348),\n",
       " ('Philippines', 298170, 100998376, 338),\n",
       " ('Vietnam', 310070, 94348835, 304),\n",
       " ('United Kingdom', 241930, 64088222, 264),\n",
       " ('Germany', 348672, 80854408, 231),\n",
       " ('Nepal', 143351, 31551305, 220),\n",
       " ('Italy', 294140, 61855120, 210),\n",
       " ('Uganda', 197100, 37101745, 188)]"
      ]
     },
     "execution_count": 14,
     "metadata": {},
     "output_type": "execute_result"
    }
   ],
   "source": [
    "%%sql\n",
    "-- Identify countries with zero or missing population/land area\n",
    "WITH t1 AS (SELECT name\n",
    "              FROM facts\n",
    "             WHERE population = 0\n",
    "                 OR population IS NULL\n",
    "                 OR area_land = 0\n",
    "                 OR area_land IS NULL\n",
    "           ),\n",
    "\n",
    "-- Calculate population density for countries without missing data  \n",
    "     t2 AS (SELECT name, area_land, population,\n",
    "                   CAST(\n",
    "                        CAST(population AS Float) / \n",
    "                          CAST(area_land AS Float) \n",
    "                      AS Integer) AS population_density\n",
    "              FROM facts\n",
    "             WHERE name NOT IN t1)\n",
    "    \n",
    "-- Isolate countries with high population and low land area\n",
    "SELECT *\n",
    "  FROM t2\n",
    " WHERE area_land < (SELECT AVG(area_land) FROM t2)\n",
    "     AND population > (SELECT AVG(population) FROM t2)\n",
    " ORDER BY population_density DESC\n",
    " LIMIT 10;"
   ]
  },
  {
   "cell_type": "markdown",
   "id": "64483810",
   "metadata": {},
   "source": [
    ">- Bangladesh leads in terms of high population and low land area with a population density of 1,297 people per square km. Bangladesh's population density is over two times the values recorded for 2nd-placed South Korea. Japan, the Philippines, and Vietnam follow behind."
   ]
  },
  {
   "cell_type": "markdown",
   "id": "0d912ecb",
   "metadata": {},
   "source": [
    "### B. Countries with the lowest population density?\n",
    "---"
   ]
  },
  {
   "cell_type": "code",
   "execution_count": 15,
   "id": "3556a8a4",
   "metadata": {},
   "outputs": [
    {
     "name": "stdout",
     "output_type": "stream",
     "text": [
      " * sqlite:///factbook.db\n",
      "Done.\n"
     ]
    },
    {
     "data": {
      "text/html": [
       "<table>\n",
       "    <thead>\n",
       "        <tr>\n",
       "            <th>name</th>\n",
       "            <th>area_land</th>\n",
       "            <th>population</th>\n",
       "            <th>population_density</th>\n",
       "        </tr>\n",
       "    </thead>\n",
       "    <tbody>\n",
       "        <tr>\n",
       "            <td>Greenland</td>\n",
       "            <td>2166086</td>\n",
       "            <td>57733</td>\n",
       "            <td>0.027</td>\n",
       "        </tr>\n",
       "        <tr>\n",
       "            <td>Svalbard</td>\n",
       "            <td>62045</td>\n",
       "            <td>1872</td>\n",
       "            <td>0.03</td>\n",
       "        </tr>\n",
       "        <tr>\n",
       "            <td>Falkland Islands (Islas Malvinas)</td>\n",
       "            <td>12173</td>\n",
       "            <td>3361</td>\n",
       "            <td>0.276</td>\n",
       "        </tr>\n",
       "        <tr>\n",
       "            <td>Pitcairn Islands</td>\n",
       "            <td>47</td>\n",
       "            <td>48</td>\n",
       "            <td>1.021</td>\n",
       "        </tr>\n",
       "        <tr>\n",
       "            <td>Mongolia</td>\n",
       "            <td>1553556</td>\n",
       "            <td>2992908</td>\n",
       "            <td>1.926</td>\n",
       "        </tr>\n",
       "        <tr>\n",
       "            <td>Western Sahara</td>\n",
       "            <td>266000</td>\n",
       "            <td>570866</td>\n",
       "            <td>2.146</td>\n",
       "        </tr>\n",
       "        <tr>\n",
       "            <td>Namibia</td>\n",
       "            <td>823290</td>\n",
       "            <td>2212307</td>\n",
       "            <td>2.687</td>\n",
       "        </tr>\n",
       "        <tr>\n",
       "            <td>Australia</td>\n",
       "            <td>7682300</td>\n",
       "            <td>22751014</td>\n",
       "            <td>2.961</td>\n",
       "        </tr>\n",
       "        <tr>\n",
       "            <td>Iceland</td>\n",
       "            <td>100250</td>\n",
       "            <td>331918</td>\n",
       "            <td>3.311</td>\n",
       "        </tr>\n",
       "        <tr>\n",
       "            <td>Mauritania</td>\n",
       "            <td>1030700</td>\n",
       "            <td>3596702</td>\n",
       "            <td>3.49</td>\n",
       "        </tr>\n",
       "    </tbody>\n",
       "</table>"
      ],
      "text/plain": [
       "[('Greenland', 2166086, 57733, 0.027),\n",
       " ('Svalbard', 62045, 1872, 0.03),\n",
       " ('Falkland Islands (Islas Malvinas)', 12173, 3361, 0.276),\n",
       " ('Pitcairn Islands', 47, 48, 1.021),\n",
       " ('Mongolia', 1553556, 2992908, 1.926),\n",
       " ('Western Sahara', 266000, 570866, 2.146),\n",
       " ('Namibia', 823290, 2212307, 2.687),\n",
       " ('Australia', 7682300, 22751014, 2.961),\n",
       " ('Iceland', 100250, 331918, 3.311),\n",
       " ('Mauritania', 1030700, 3596702, 3.49)]"
      ]
     },
     "execution_count": 15,
     "metadata": {},
     "output_type": "execute_result"
    }
   ],
   "source": [
    "%%sql\n",
    "SELECT name, area_land, population,\n",
    "       ROUND(\n",
    "            CAST(population AS Float) / \n",
    "              CAST(area_land AS Float) \n",
    "            , 3) AS population_density\n",
    "  FROM facts\n",
    "-- Filter out countries with zero or missing population/land area\n",
    " WHERE name NOT IN (SELECT name\n",
    "                      FROM facts\n",
    "                     WHERE population = 0\n",
    "                         OR population IS NULL\n",
    "                         OR area_land = 0\n",
    "                         OR area_land IS NULL\n",
    "                   )\n",
    " ORDER BY 4\n",
    " LIMIT 10;"
   ]
  },
  {
   "cell_type": "markdown",
   "id": "4eacbd67",
   "metadata": {},
   "source": [
    ">- The world's least-densely populated territory is Greenland, with a rate of 0.027 people per square km. Most of Greenland is covered in ice. \n",
    ">- Svalbard's remote and bitterly cold territory, located north of Norway, comes second on this list (0.03 people per square km). Falkland Island, Pitcairn Island, and Mongolia follow behind.\n",
    "\n",
    "An interesting pattern is that most of these territories are remote, with challenging climate conditions, which may explain the low number of inhabitants (_source: [Worldatlas](https://www.worldatlas.com/articles/the-10-least-densely-populated-places-in-the-world-2015.html)_). \n",
    "\n",
    "Alternatively, we can explore low population density in the following context:\n",
    "$$ \n",
    "Total\\ population < Average\\ world\\ population\\ \\\\\n",
    "AND\\ Land\\ area > World\\ average\\ land\\ area\n",
    "$$"
   ]
  },
  {
   "cell_type": "code",
   "execution_count": 16,
   "id": "59d03dc7",
   "metadata": {
    "scrolled": true
   },
   "outputs": [
    {
     "name": "stdout",
     "output_type": "stream",
     "text": [
      " * sqlite:///factbook.db\n",
      "Done.\n"
     ]
    },
    {
     "data": {
      "text/html": [
       "<table>\n",
       "    <thead>\n",
       "        <tr>\n",
       "            <th>name</th>\n",
       "            <th>area_land</th>\n",
       "            <th>population</th>\n",
       "            <th>population_density</th>\n",
       "        </tr>\n",
       "    </thead>\n",
       "    <tbody>\n",
       "        <tr>\n",
       "            <td>Greenland</td>\n",
       "            <td>2166086</td>\n",
       "            <td>57733</td>\n",
       "            <td>0.027</td>\n",
       "        </tr>\n",
       "        <tr>\n",
       "            <td>Mongolia</td>\n",
       "            <td>1553556</td>\n",
       "            <td>2992908</td>\n",
       "            <td>1.926</td>\n",
       "        </tr>\n",
       "        <tr>\n",
       "            <td>Namibia</td>\n",
       "            <td>823290</td>\n",
       "            <td>2212307</td>\n",
       "            <td>2.687</td>\n",
       "        </tr>\n",
       "        <tr>\n",
       "            <td>Australia</td>\n",
       "            <td>7682300</td>\n",
       "            <td>22751014</td>\n",
       "            <td>2.961</td>\n",
       "        </tr>\n",
       "        <tr>\n",
       "            <td>Mauritania</td>\n",
       "            <td>1030700</td>\n",
       "            <td>3596702</td>\n",
       "            <td>3.49</td>\n",
       "        </tr>\n",
       "        <tr>\n",
       "            <td>Libya</td>\n",
       "            <td>1759540</td>\n",
       "            <td>6411776</td>\n",
       "            <td>3.644</td>\n",
       "        </tr>\n",
       "        <tr>\n",
       "            <td>Botswana</td>\n",
       "            <td>566730</td>\n",
       "            <td>2182719</td>\n",
       "            <td>3.851</td>\n",
       "        </tr>\n",
       "        <tr>\n",
       "            <td>Kazakhstan</td>\n",
       "            <td>2699700</td>\n",
       "            <td>18157122</td>\n",
       "            <td>6.726</td>\n",
       "        </tr>\n",
       "        <tr>\n",
       "            <td>Central African Republic</td>\n",
       "            <td>622984</td>\n",
       "            <td>5391539</td>\n",
       "            <td>8.654</td>\n",
       "        </tr>\n",
       "        <tr>\n",
       "            <td>Chad</td>\n",
       "            <td>1259200</td>\n",
       "            <td>11631456</td>\n",
       "            <td>9.237</td>\n",
       "        </tr>\n",
       "    </tbody>\n",
       "</table>"
      ],
      "text/plain": [
       "[('Greenland', 2166086, 57733, 0.027),\n",
       " ('Mongolia', 1553556, 2992908, 1.926),\n",
       " ('Namibia', 823290, 2212307, 2.687),\n",
       " ('Australia', 7682300, 22751014, 2.961),\n",
       " ('Mauritania', 1030700, 3596702, 3.49),\n",
       " ('Libya', 1759540, 6411776, 3.644),\n",
       " ('Botswana', 566730, 2182719, 3.851),\n",
       " ('Kazakhstan', 2699700, 18157122, 6.726),\n",
       " ('Central African Republic', 622984, 5391539, 8.654),\n",
       " ('Chad', 1259200, 11631456, 9.237)]"
      ]
     },
     "execution_count": 16,
     "metadata": {},
     "output_type": "execute_result"
    }
   ],
   "source": [
    "%%sql\n",
    "-- Identify countries with zero or missing population/land area\n",
    "WITH t1 AS (SELECT name\n",
    "              FROM facts\n",
    "             WHERE population = 0\n",
    "                 OR population IS NULL\n",
    "                 OR area_land = 0\n",
    "                 OR area_land IS NULL\n",
    "           ),\n",
    "\n",
    "-- Calculate population density for countries without missing data  \n",
    "     t2 AS (SELECT name, area_land, population,\n",
    "                   ROUND(\n",
    "                        CAST(population AS Float) / \n",
    "                          CAST(area_land AS Float) \n",
    "                        , 3) AS population_density\n",
    "              FROM facts\n",
    "             WHERE name NOT IN t1)\n",
    "    \n",
    "-- Isolate countries with high population and low land area\n",
    "SELECT *\n",
    "  FROM t2\n",
    " WHERE area_land > (SELECT AVG(area_land) FROM t2)\n",
    "     AND population < (SELECT AVG(population) FROM t2)\n",
    " ORDER BY population_density\n",
    " LIMIT 10;"
   ]
  },
  {
   "cell_type": "markdown",
   "id": "52ca36a8",
   "metadata": {},
   "source": [
    "> <img src='./images/greenland_map.png'/>\n",
    ">\n",
    ">- **Greenland** remains the world's least-densely populated territory. With a land area of over 2 million square kilometers and only about 58,000 inhabitants, Greenland looks like the number-one recommended spot for those who want to feel like they've left all of humanity behind. \n",
    ">- Based on the new criteria, Mongolia, Namibia, Australia, and Mauritania occupy the 2nd to 5th places, respectively.\n",
    "  \n",
    "## Mortality and Fertility\n",
    "---\n",
    " \n",
    "Two metrics determine the change in the world population: the number of babies born and people dying. [In 2021](https://statisticstimes.com/demographics/world-death-and-birth-rate.php), the crude death rate for the world was 7.64 deaths per thousand population, and the crude birth rate for the world is 17.76 births per thousand. These figures indicate a ratio of about 2.3 births for every death.\n",
    "\n",
    "Let's query our data for the same information:"
   ]
  },
  {
   "cell_type": "code",
   "execution_count": 17,
   "id": "22f56406",
   "metadata": {},
   "outputs": [
    {
     "name": "stdout",
     "output_type": "stream",
     "text": [
      " * sqlite:///factbook.db\n",
      "Done.\n"
     ]
    },
    {
     "data": {
      "text/html": [
       "<table>\n",
       "    <thead>\n",
       "        <tr>\n",
       "            <th>birth_rate</th>\n",
       "            <th>death_rate</th>\n",
       "            <th>birth_to_death_ratio</th>\n",
       "        </tr>\n",
       "    </thead>\n",
       "    <tbody>\n",
       "        <tr>\n",
       "            <td>18.6</td>\n",
       "            <td>7.8</td>\n",
       "            <td>2.38</td>\n",
       "        </tr>\n",
       "    </tbody>\n",
       "</table>"
      ],
      "text/plain": [
       "[(18.6, 7.8, 2.38)]"
      ]
     },
     "execution_count": 17,
     "metadata": {},
     "output_type": "execute_result"
    }
   ],
   "source": [
    "%%sql \n",
    "SELECT birth_rate, death_rate,\n",
    "       ROUND((birth_rate / death_rate), 2) AS birth_to_death_ratio\n",
    "  FROM facts\n",
    " WHERE name = 'World';"
   ]
  },
  {
   "cell_type": "markdown",
   "id": "f5f040c2",
   "metadata": {},
   "source": [
    "Our data reveals a similar pattern, with about **2.4** births for every death.\n",
    "\n",
    "### A. Countries with the highest birth rates\n",
    "---"
   ]
  },
  {
   "cell_type": "code",
   "execution_count": 18,
   "id": "4fbb6a9e",
   "metadata": {},
   "outputs": [
    {
     "name": "stdout",
     "output_type": "stream",
     "text": [
      " * sqlite:///factbook.db\n",
      "Done.\n"
     ]
    },
    {
     "data": {
      "text/html": [
       "<table>\n",
       "    <thead>\n",
       "        <tr>\n",
       "            <th>name</th>\n",
       "            <th>birth_rate</th>\n",
       "        </tr>\n",
       "    </thead>\n",
       "    <tbody>\n",
       "        <tr>\n",
       "            <td>Niger</td>\n",
       "            <td>45.45</td>\n",
       "        </tr>\n",
       "        <tr>\n",
       "            <td>Mali</td>\n",
       "            <td>44.99</td>\n",
       "        </tr>\n",
       "        <tr>\n",
       "            <td>Uganda</td>\n",
       "            <td>43.79</td>\n",
       "        </tr>\n",
       "        <tr>\n",
       "            <td>Zambia</td>\n",
       "            <td>42.13</td>\n",
       "        </tr>\n",
       "        <tr>\n",
       "            <td>Burkina Faso</td>\n",
       "            <td>42.03</td>\n",
       "        </tr>\n",
       "        <tr>\n",
       "            <td>Burundi</td>\n",
       "            <td>42.01</td>\n",
       "        </tr>\n",
       "        <tr>\n",
       "            <td>Malawi</td>\n",
       "            <td>41.56</td>\n",
       "        </tr>\n",
       "        <tr>\n",
       "            <td>Somalia</td>\n",
       "            <td>40.45</td>\n",
       "        </tr>\n",
       "        <tr>\n",
       "            <td>Angola</td>\n",
       "            <td>38.78</td>\n",
       "        </tr>\n",
       "        <tr>\n",
       "            <td>Mozambique</td>\n",
       "            <td>38.58</td>\n",
       "        </tr>\n",
       "    </tbody>\n",
       "</table>"
      ],
      "text/plain": [
       "[('Niger', 45.45),\n",
       " ('Mali', 44.99),\n",
       " ('Uganda', 43.79),\n",
       " ('Zambia', 42.13),\n",
       " ('Burkina Faso', 42.03),\n",
       " ('Burundi', 42.01),\n",
       " ('Malawi', 41.56),\n",
       " ('Somalia', 40.45),\n",
       " ('Angola', 38.78),\n",
       " ('Mozambique', 38.58)]"
      ]
     },
     "execution_count": 18,
     "metadata": {},
     "output_type": "execute_result"
    }
   ],
   "source": [
    "%%sql \n",
    "SELECT name, birth_rate\n",
    "  FROM facts\n",
    " WHERE name != 'World'\n",
    " ORDER BY 2 DESC\n",
    " LIMIT 10;"
   ]
  },
  {
   "cell_type": "markdown",
   "id": "20ed60b5",
   "metadata": {},
   "source": [
    ">- Niger has the highest birth rate in the world at 45.45 average annual births per 1,000 people per year. Mali (44.99), Uganda (43.79), Zambia (42.13), and Burkina Faso (42.03) follow closely behind. All countries in the top-10 list belong to Africa. Africa's dominant birth rate is further emphasized in the figure below:<br><br>\n",
    "> <img src='https://www.geocurrents.info/wp-content/uploads/2016/02/TFR-2010-2015-World-Map.png'\n",
    "     width=\"600\" height=\"400\">\n",
    "\n",
    "Nowadays, large population growth in a country is either associated with a poor economy, lack of awareness and preventive measures, or poor living conditions. Lack of access to birth control and contraception in third-world countries also contributes to higher fertility rates. [Statistics](https://www.statista.com/statistics/280190/fertility-rate-per-woman-worldwide-by-income-group/) have shown that the fertility rate per woman in low-income countries is twice as high as the global average. As a result, 10 out of the top-10 countries with the highest birth rates are in Africa, as seen above.\n",
    "\n",
    "### B. Countries with the lowest birth rates\n",
    "---"
   ]
  },
  {
   "cell_type": "code",
   "execution_count": 19,
   "id": "1df4d6dc",
   "metadata": {
    "scrolled": true
   },
   "outputs": [
    {
     "name": "stdout",
     "output_type": "stream",
     "text": [
      " * sqlite:///factbook.db\n",
      "Done.\n"
     ]
    },
    {
     "data": {
      "text/html": [
       "<table>\n",
       "    <thead>\n",
       "        <tr>\n",
       "            <th>name</th>\n",
       "            <th>birth_rate</th>\n",
       "        </tr>\n",
       "    </thead>\n",
       "    <tbody>\n",
       "        <tr>\n",
       "            <td>Monaco</td>\n",
       "            <td>6.65</td>\n",
       "        </tr>\n",
       "        <tr>\n",
       "            <td>Saint Pierre and Miquelon</td>\n",
       "            <td>7.42</td>\n",
       "        </tr>\n",
       "        <tr>\n",
       "            <td>Japan</td>\n",
       "            <td>7.93</td>\n",
       "        </tr>\n",
       "        <tr>\n",
       "            <td>Andorra</td>\n",
       "            <td>8.13</td>\n",
       "        </tr>\n",
       "        <tr>\n",
       "            <td>Korea, South</td>\n",
       "            <td>8.19</td>\n",
       "        </tr>\n",
       "        <tr>\n",
       "            <td>Singapore</td>\n",
       "            <td>8.27</td>\n",
       "        </tr>\n",
       "        <tr>\n",
       "            <td>Slovenia</td>\n",
       "            <td>8.42</td>\n",
       "        </tr>\n",
       "        <tr>\n",
       "            <td>Germany</td>\n",
       "            <td>8.47</td>\n",
       "        </tr>\n",
       "        <tr>\n",
       "            <td>Taiwan</td>\n",
       "            <td>8.47</td>\n",
       "        </tr>\n",
       "        <tr>\n",
       "            <td>San Marino</td>\n",
       "            <td>8.63</td>\n",
       "        </tr>\n",
       "    </tbody>\n",
       "</table>"
      ],
      "text/plain": [
       "[('Monaco', 6.65),\n",
       " ('Saint Pierre and Miquelon', 7.42),\n",
       " ('Japan', 7.93),\n",
       " ('Andorra', 8.13),\n",
       " ('Korea, South', 8.19),\n",
       " ('Singapore', 8.27),\n",
       " ('Slovenia', 8.42),\n",
       " ('Germany', 8.47),\n",
       " ('Taiwan', 8.47),\n",
       " ('San Marino', 8.63)]"
      ]
     },
     "execution_count": 19,
     "metadata": {},
     "output_type": "execute_result"
    }
   ],
   "source": [
    "%%sql \n",
    "SELECT name, birth_rate\n",
    "  FROM facts\n",
    " WHERE name != 'World'\n",
    "-- Filter out entries without birth rates\n",
    "     AND birth_rate IS NOT NULL\n",
    " ORDER BY 2 ASC\n",
    " LIMIT 10;"
   ]
  },
  {
   "cell_type": "markdown",
   "id": "03661967",
   "metadata": {},
   "source": [
    ">- On the other side of the scale, the CIA estimates Monaco has the lowest birth rate in the world at 6.65 average annual births per 1,000 people per year. The small population size of [Saint Pierre](https://en.wikipedia.org/wiki/Saint-Pierre,_Saint_Pierre_and_Miquelon) makes it easy to understand its presence on the list. With close margins, Japan (7.93), Andorra (8.13), and South Korea (8.19) occupy 3rd to 5th place, respectively.\n",
    "  \n",
    "This [Wikipedia article](https://en.wikipedia.org/wiki/Total_fertility_rate) provides some insights into the low birth rates recorded in Asian regions (Japan, South Korea, Taiwan, and Singapore). Aging and socio-economic challenges are described as the major reasons for these results.\n",
    "\n",
    "### C. Countries with high death rates\n",
    "---"
   ]
  },
  {
   "cell_type": "code",
   "execution_count": 20,
   "id": "2a716af3",
   "metadata": {
    "scrolled": true
   },
   "outputs": [
    {
     "name": "stdout",
     "output_type": "stream",
     "text": [
      " * sqlite:///factbook.db\n",
      "Done.\n"
     ]
    },
    {
     "data": {
      "text/html": [
       "<table>\n",
       "    <thead>\n",
       "        <tr>\n",
       "            <th>name</th>\n",
       "            <th>death_rate</th>\n",
       "        </tr>\n",
       "    </thead>\n",
       "    <tbody>\n",
       "        <tr>\n",
       "            <td>Lesotho</td>\n",
       "            <td>14.89</td>\n",
       "        </tr>\n",
       "        <tr>\n",
       "            <td>Ukraine</td>\n",
       "            <td>14.46</td>\n",
       "        </tr>\n",
       "        <tr>\n",
       "            <td>Bulgaria</td>\n",
       "            <td>14.44</td>\n",
       "        </tr>\n",
       "        <tr>\n",
       "            <td>Guinea-Bissau</td>\n",
       "            <td>14.33</td>\n",
       "        </tr>\n",
       "        <tr>\n",
       "            <td>Latvia</td>\n",
       "            <td>14.31</td>\n",
       "        </tr>\n",
       "        <tr>\n",
       "            <td>Chad</td>\n",
       "            <td>14.28</td>\n",
       "        </tr>\n",
       "        <tr>\n",
       "            <td>Lithuania</td>\n",
       "            <td>14.27</td>\n",
       "        </tr>\n",
       "        <tr>\n",
       "            <td>Namibia</td>\n",
       "            <td>13.91</td>\n",
       "        </tr>\n",
       "        <tr>\n",
       "            <td>Afghanistan</td>\n",
       "            <td>13.89</td>\n",
       "        </tr>\n",
       "        <tr>\n",
       "            <td>Central African Republic</td>\n",
       "            <td>13.8</td>\n",
       "        </tr>\n",
       "    </tbody>\n",
       "</table>"
      ],
      "text/plain": [
       "[('Lesotho', 14.89),\n",
       " ('Ukraine', 14.46),\n",
       " ('Bulgaria', 14.44),\n",
       " ('Guinea-Bissau', 14.33),\n",
       " ('Latvia', 14.31),\n",
       " ('Chad', 14.28),\n",
       " ('Lithuania', 14.27),\n",
       " ('Namibia', 13.91),\n",
       " ('Afghanistan', 13.89),\n",
       " ('Central African Republic', 13.8)]"
      ]
     },
     "execution_count": 20,
     "metadata": {},
     "output_type": "execute_result"
    }
   ],
   "source": [
    "%%sql \n",
    "SELECT name, death_rate\n",
    "  FROM facts\n",
    " WHERE name != 'World'\n",
    " ORDER BY 2 DESC\n",
    " LIMIT 10;"
   ]
  },
  {
   "cell_type": "markdown",
   "id": "2778b803",
   "metadata": {},
   "source": [
    ">- In the 1st and 4th place are African countries Lesotho (14.89 deaths per 100 people) and Guinea Bissau (14.33), respectively. According to the [CDC](https://www.cdc.gov/globalhealth/countries/lesotho/default.htm) and [the Borgen project](https://borgenproject.org/top-diseases-in-guinea-bissau/#:~:text=The%20leading%20cause%20of%20death,significantly%20reduce%20their%20negative%20effects), the leading causes of death in these territories are infections and poverty.\n",
    ">- The European countries Ukraine (14.46), Bulgaria (14.44), and Latvia (14.3) occupy the 2nd, 3rd and 5th place. Contrary to the African pattern, [studies](https://www.oecd-ilibrary.org/sites/82129230-en/1/3/2/1/4/index.html?itemId=/content/publication/82129230-en&_csp_=e7f5d56a7f4dd03271a59acda6e2be1b&itemIGO=oecd&itemContentType=book#:~:text=The%20main%20causes%20of%20death,or%2037%25%20of%20all%20deaths) reveal that the leading causes of death are non-infectious diseases like circulatory, digestive, or respiratory diseases and cancers. In Ukraine and Latvia, [poor healthcare administration](https://worldpopulationreview.com/country-rankings/death-rate-by-country) contributes to death.\n",
    "  \n",
    "As the handling of infectious diseases improves worldwide, sources have reported declining death rates in Lesotho and Guinea Bissau. At the same time, Latvia, Ukraine, and Bulgaria continue to experience increasing rates. _Click the chart titles below to access the original source:_\n",
    "\n",
    "**[Death Rates in Lesotho (1960 - 2019)](https://www.theglobaleconomy.com/Lesotho/Death_rate/)**\n",
    "\n",
    "<img src='./images/lesotho_death_rate.png'\n",
    "     width=\"700\" height=\"400\">\n",
    "\n",
    "**[Death Rates in Guinea-Bissau (1960 - 2019)](https://www.theglobaleconomy.com/Guinea-Bissau/Death_rate/)**\n",
    "\n",
    "<img src='./images/bissau_death_rate.png'\n",
    "     width=\"700\" height=\"400\">\n",
    "     \n",
    "**[Death Rates in Latvia (1960 - 2019)](https://www.theglobaleconomy.com/Latvia/Death_rate/)**\n",
    "\n",
    "<img src='./images/latvia_death_rate.png'\n",
    "     width=\"700\" height=\"400\">\n",
    "     \n",
    "**[Death Rates in Ukraine (1960 - 2019)](https://www.theglobaleconomy.com/Ukraine/Death_rate/)**\n",
    "\n",
    "<img src='./images/ukraine_death_rate.png'\n",
    "     width=\"700\" height=\"400\">\n",
    "     \n",
    "**[Death Rates in Bulgaria (1960 - 2019)](https://www.theglobaleconomy.com/Bulgaria/Death_rate/)**\n",
    "\n",
    "<img src='./images/bulgaria_death_rate.png'\n",
    "     width=\"700\" height=\"400\">\n",
    "\n",
    "Unsurprisingly, a 2020 list of the top 5 countries by death rate did not include Lesotho and Guinea-Bissau. However, Bulgaria, Ukraine, and Latvia were present. _Refer to the original source [here](https://ourworldindata.org/grapher/birth-rate-vs-death-rate?tab=table&time=latest&country=LSO~UKR~BGR~GNB~LVA)_\n",
    "\n",
    "<img src='./images/death_rate_2020.png'\n",
    "     width=\"500\" height=\"400\">\n",
    "     \n",
    "### D. Countries with low death rates\n",
    "---"
   ]
  },
  {
   "cell_type": "code",
   "execution_count": 21,
   "id": "47f65f59",
   "metadata": {},
   "outputs": [
    {
     "name": "stdout",
     "output_type": "stream",
     "text": [
      " * sqlite:///factbook.db\n",
      "Done.\n"
     ]
    },
    {
     "data": {
      "text/html": [
       "<table>\n",
       "    <thead>\n",
       "        <tr>\n",
       "            <th>name</th>\n",
       "            <th>death_rate</th>\n",
       "        </tr>\n",
       "    </thead>\n",
       "    <tbody>\n",
       "        <tr>\n",
       "            <td>Qatar</td>\n",
       "            <td>1.53</td>\n",
       "        </tr>\n",
       "        <tr>\n",
       "            <td>United Arab Emirates</td>\n",
       "            <td>1.97</td>\n",
       "        </tr>\n",
       "        <tr>\n",
       "            <td>Kuwait</td>\n",
       "            <td>2.18</td>\n",
       "        </tr>\n",
       "        <tr>\n",
       "            <td>Bahrain</td>\n",
       "            <td>2.69</td>\n",
       "        </tr>\n",
       "        <tr>\n",
       "            <td>Gaza Strip</td>\n",
       "            <td>3.04</td>\n",
       "        </tr>\n",
       "        <tr>\n",
       "            <td>Turks and Caicos Islands</td>\n",
       "            <td>3.1</td>\n",
       "        </tr>\n",
       "        <tr>\n",
       "            <td>Saudi Arabia</td>\n",
       "            <td>3.33</td>\n",
       "        </tr>\n",
       "        <tr>\n",
       "            <td>Oman</td>\n",
       "            <td>3.36</td>\n",
       "        </tr>\n",
       "        <tr>\n",
       "            <td>Singapore</td>\n",
       "            <td>3.43</td>\n",
       "        </tr>\n",
       "        <tr>\n",
       "            <td>West Bank</td>\n",
       "            <td>3.5</td>\n",
       "        </tr>\n",
       "    </tbody>\n",
       "</table>"
      ],
      "text/plain": [
       "[('Qatar', 1.53),\n",
       " ('United Arab Emirates', 1.97),\n",
       " ('Kuwait', 2.18),\n",
       " ('Bahrain', 2.69),\n",
       " ('Gaza Strip', 3.04),\n",
       " ('Turks and Caicos Islands', 3.1),\n",
       " ('Saudi Arabia', 3.33),\n",
       " ('Oman', 3.36),\n",
       " ('Singapore', 3.43),\n",
       " ('West Bank', 3.5)]"
      ]
     },
     "execution_count": 21,
     "metadata": {},
     "output_type": "execute_result"
    }
   ],
   "source": [
    "%%sql \n",
    "SELECT name, death_rate\n",
    "  FROM facts\n",
    " WHERE name != 'World'\n",
    "-- Filter out entries without birth rates\n",
    "     AND death_rate IS NOT NULL\n",
    " ORDER BY 2\n",
    " LIMIT 10;"
   ]
  },
  {
   "cell_type": "markdown",
   "id": "0a8ebbe2",
   "metadata": {},
   "source": [
    ">- Qatar has the lowest mortality rate in the world at 1.53 deaths per 1,000 people. The UAE (1.97), Kuwait (2.8), and Bahrain (2.69) follow behind. These countries are renowned for their improved health care system, technologically advanced facilities, and ability to deliver some of the world's best patient care.\n",
    "\n",
    "Here is another interesting pattern: **Six** of the ten countries on this list (Saudi Arabia, Kuwait, the United Arab Emirates, Qatar, Bahrain, and Oman) belong to the [Gulf Cooperation Council (GCC)](https://en.wikipedia.org/wiki/Gulf_Cooperation_Council). In fact, **all members** of the council are present on the list. The GCC is a political and economic alliance of the six aforementioned Middle Eastern countries.\n",
    "\n",
    "<img src='./images/gcc.webp'\n",
    "     width=\"500\" height=\"400\">\n",
    "     \n",
    "Arguably, the [most important](https://www.britannica.com/topic/Gulf-Cooperation-Council) goal of the GCC lies in Article 4 of its charter, which states that the alliance was formed to strengthen relations among its member countries and to promote cooperation among the countries' citizens. This alliance may hint at the positive effect of the countries on one another.\n",
    "\n",
    "### E. Countries with the highest birth-to-death ratio\n",
    "---\n",
    " \n",
    "Birth to death ratio can be calculated with the expression:\n",
    "\n",
    "$$ \n",
    "Birth\\ to\\ death\\ ratio = \\frac{birth\\ rate}{death\\ rate}\n",
    "$$\n"
   ]
  },
  {
   "cell_type": "code",
   "execution_count": 22,
   "id": "0c5067c5",
   "metadata": {
    "scrolled": true
   },
   "outputs": [
    {
     "name": "stdout",
     "output_type": "stream",
     "text": [
      " * sqlite:///factbook.db\n",
      "Done.\n"
     ]
    },
    {
     "data": {
      "text/html": [
       "<table>\n",
       "    <thead>\n",
       "        <tr>\n",
       "            <th>name</th>\n",
       "            <th>birth_rate</th>\n",
       "            <th>death_rate</th>\n",
       "            <th>birth_to_death_ratio</th>\n",
       "        </tr>\n",
       "    </thead>\n",
       "    <tbody>\n",
       "        <tr>\n",
       "            <td>Gaza Strip</td>\n",
       "            <td>31.11</td>\n",
       "            <td>3.04</td>\n",
       "            <td>10.23</td>\n",
       "        </tr>\n",
       "        <tr>\n",
       "            <td>Kuwait</td>\n",
       "            <td>19.91</td>\n",
       "            <td>2.18</td>\n",
       "            <td>9.13</td>\n",
       "        </tr>\n",
       "        <tr>\n",
       "            <td>Iraq</td>\n",
       "            <td>31.45</td>\n",
       "            <td>3.77</td>\n",
       "            <td>8.34</td>\n",
       "        </tr>\n",
       "        <tr>\n",
       "            <td>United Arab Emirates</td>\n",
       "            <td>15.43</td>\n",
       "            <td>1.97</td>\n",
       "            <td>7.83</td>\n",
       "        </tr>\n",
       "        <tr>\n",
       "            <td>Oman</td>\n",
       "            <td>24.44</td>\n",
       "            <td>3.36</td>\n",
       "            <td>7.27</td>\n",
       "        </tr>\n",
       "        <tr>\n",
       "            <td>Jordan</td>\n",
       "            <td>25.37</td>\n",
       "            <td>3.79</td>\n",
       "            <td>6.69</td>\n",
       "        </tr>\n",
       "        <tr>\n",
       "            <td>Solomon Islands</td>\n",
       "            <td>25.77</td>\n",
       "            <td>3.85</td>\n",
       "            <td>6.69</td>\n",
       "        </tr>\n",
       "        <tr>\n",
       "            <td>West Bank</td>\n",
       "            <td>22.99</td>\n",
       "            <td>3.5</td>\n",
       "            <td>6.57</td>\n",
       "        </tr>\n",
       "        <tr>\n",
       "            <td>Qatar</td>\n",
       "            <td>9.84</td>\n",
       "            <td>1.53</td>\n",
       "            <td>6.43</td>\n",
       "        </tr>\n",
       "        <tr>\n",
       "            <td>Vanuatu</td>\n",
       "            <td>25.04</td>\n",
       "            <td>4.09</td>\n",
       "            <td>6.12</td>\n",
       "        </tr>\n",
       "    </tbody>\n",
       "</table>"
      ],
      "text/plain": [
       "[('Gaza Strip', 31.11, 3.04, 10.23),\n",
       " ('Kuwait', 19.91, 2.18, 9.13),\n",
       " ('Iraq', 31.45, 3.77, 8.34),\n",
       " ('United Arab Emirates', 15.43, 1.97, 7.83),\n",
       " ('Oman', 24.44, 3.36, 7.27),\n",
       " ('Jordan', 25.37, 3.79, 6.69),\n",
       " ('Solomon Islands', 25.77, 3.85, 6.69),\n",
       " ('West Bank', 22.99, 3.5, 6.57),\n",
       " ('Qatar', 9.84, 1.53, 6.43),\n",
       " ('Vanuatu', 25.04, 4.09, 6.12)]"
      ]
     },
     "execution_count": 22,
     "metadata": {},
     "output_type": "execute_result"
    }
   ],
   "source": [
    "%%sql \n",
    "SELECT name, birth_rate, death_rate,\n",
    "       ROUND((birth_rate / death_rate), 2) AS birth_to_death_ratio\n",
    "  FROM facts\n",
    " WHERE name != 'World'\n",
    " ORDER BY 4 DESC\n",
    " LIMIT 10;"
   ]
  },
  {
   "cell_type": "markdown",
   "id": "68d65093",
   "metadata": {},
   "source": [
    ">- The Gaza strip records the highest birth-to-death ratio, with about 11 children born for every death in the territory. The rampant conflicts across the region make this a surprise.\n",
    ">- The presence of Gulf Cooperation territories like Kuwait, the UAE, Oman, and Qatar is expected, considering the low death rate in these regions.\n",
    "  \n",
    "### F. Countries with the lowest birth-to-death ratio\n",
    "---"
   ]
  },
  {
   "cell_type": "code",
   "execution_count": 23,
   "id": "9166aab6",
   "metadata": {
    "scrolled": true
   },
   "outputs": [
    {
     "name": "stdout",
     "output_type": "stream",
     "text": [
      " * sqlite:///factbook.db\n",
      "Done.\n"
     ]
    },
    {
     "data": {
      "text/html": [
       "<table>\n",
       "    <thead>\n",
       "        <tr>\n",
       "            <th>name</th>\n",
       "            <th>birth_rate</th>\n",
       "            <th>death_rate</th>\n",
       "            <th>birth_to_death_ratio</th>\n",
       "        </tr>\n",
       "    </thead>\n",
       "    <tbody>\n",
       "        <tr>\n",
       "            <td>Bulgaria</td>\n",
       "            <td>8.92</td>\n",
       "            <td>14.44</td>\n",
       "            <td>0.62</td>\n",
       "        </tr>\n",
       "        <tr>\n",
       "            <td>Serbia</td>\n",
       "            <td>9.08</td>\n",
       "            <td>13.66</td>\n",
       "            <td>0.66</td>\n",
       "        </tr>\n",
       "        <tr>\n",
       "            <td>Latvia</td>\n",
       "            <td>10.0</td>\n",
       "            <td>14.31</td>\n",
       "            <td>0.7</td>\n",
       "        </tr>\n",
       "        <tr>\n",
       "            <td>Lithuania</td>\n",
       "            <td>10.1</td>\n",
       "            <td>14.27</td>\n",
       "            <td>0.71</td>\n",
       "        </tr>\n",
       "        <tr>\n",
       "            <td>Hungary</td>\n",
       "            <td>9.16</td>\n",
       "            <td>12.73</td>\n",
       "            <td>0.72</td>\n",
       "        </tr>\n",
       "        <tr>\n",
       "            <td>Monaco</td>\n",
       "            <td>6.65</td>\n",
       "            <td>9.24</td>\n",
       "            <td>0.72</td>\n",
       "        </tr>\n",
       "        <tr>\n",
       "            <td>Germany</td>\n",
       "            <td>8.47</td>\n",
       "            <td>11.42</td>\n",
       "            <td>0.74</td>\n",
       "        </tr>\n",
       "        <tr>\n",
       "            <td>Slovenia</td>\n",
       "            <td>8.42</td>\n",
       "            <td>11.37</td>\n",
       "            <td>0.74</td>\n",
       "        </tr>\n",
       "        <tr>\n",
       "            <td>Ukraine</td>\n",
       "            <td>10.72</td>\n",
       "            <td>14.46</td>\n",
       "            <td>0.74</td>\n",
       "        </tr>\n",
       "        <tr>\n",
       "            <td>Saint Pierre and Miquelon</td>\n",
       "            <td>7.42</td>\n",
       "            <td>9.72</td>\n",
       "            <td>0.76</td>\n",
       "        </tr>\n",
       "    </tbody>\n",
       "</table>"
      ],
      "text/plain": [
       "[('Bulgaria', 8.92, 14.44, 0.62),\n",
       " ('Serbia', 9.08, 13.66, 0.66),\n",
       " ('Latvia', 10.0, 14.31, 0.7),\n",
       " ('Lithuania', 10.1, 14.27, 0.71),\n",
       " ('Hungary', 9.16, 12.73, 0.72),\n",
       " ('Monaco', 6.65, 9.24, 0.72),\n",
       " ('Germany', 8.47, 11.42, 0.74),\n",
       " ('Slovenia', 8.42, 11.37, 0.74),\n",
       " ('Ukraine', 10.72, 14.46, 0.74),\n",
       " ('Saint Pierre and Miquelon', 7.42, 9.72, 0.76)]"
      ]
     },
     "execution_count": 23,
     "metadata": {},
     "output_type": "execute_result"
    }
   ],
   "source": [
    "%%sql \n",
    "SELECT name, birth_rate, death_rate,\n",
    "       ROUND((birth_rate / death_rate), 2) AS birth_to_death_ratio\n",
    "  FROM facts\n",
    " WHERE name != 'World'\n",
    "     AND birth_to_death_ratio NOT NULL\n",
    " ORDER BY 4\n",
    " LIMIT 10;"
   ]
  },
  {
   "cell_type": "markdown",
   "id": "a21f822c",
   "metadata": {},
   "source": [
    ">- All countries and territories on the list are located in Europe. The compounded effect of decreasing birth rates and increasing deaths may pose a potential risk. The ratio indicates a struggle in Europe to achieve a single birth for every ten deaths. An article emphasizing a similar concern can be found [here](https://www.theguardian.com/world/2015/aug/23/baby-crisis-europe-brink-depopulation-disaster).\n",
    "\n",
    "The struggle to maintain corresponding birth rates for every death in Europe might be made clearer when compared to other continents. [Wikimedia commons](https://commons.wikimedia.org/wiki/File:Birth_rate_vs_Death_rate,_OWID.svg) conducted a similar analysis of birth and death rates across the world's countries in 2016; the results are enlightening.\n",
    "\n",
    "<img src='./images/birth_vs_death.svg'\n",
    "     width=\"700\" height=\"500\">\n",
    "\n",
    "We can tell from the chart above; when compared to other continents, Europe recorded higher than average death rates and lower than average birth rates. An inherent message here is that several countries appear to be **shrinking** from a population perspective. We can identify countries with the fastest declining populations to shed some light on this alarming discovery.\n",
    "\n",
    "## Countries with the fastest declining populations\n",
    "---\n",
    "  \n",
    "To identify the fastest declining populations, we select countries that meet the following criteria:\n",
    "- A birth-to-death ratio of less than one (indicates the absence of natural increase).\n",
    "- Little to no population growth (population growth of less than 1%).\n",
    "- Very low immigration levels (migration rate of less than one)."
   ]
  },
  {
   "cell_type": "code",
   "execution_count": 24,
   "id": "76e46b2e",
   "metadata": {},
   "outputs": [
    {
     "name": "stdout",
     "output_type": "stream",
     "text": [
      " * sqlite:///factbook.db\n",
      "Done.\n"
     ]
    },
    {
     "data": {
      "text/html": [
       "<table>\n",
       "    <thead>\n",
       "        <tr>\n",
       "            <th>name</th>\n",
       "            <th>birth_death_ratio</th>\n",
       "            <th>population_growth</th>\n",
       "            <th>migration_rate</th>\n",
       "        </tr>\n",
       "    </thead>\n",
       "    <tbody>\n",
       "        <tr>\n",
       "            <td>Serbia</td>\n",
       "            <td>0.66</td>\n",
       "            <td>0.46</td>\n",
       "            <td>0.0</td>\n",
       "        </tr>\n",
       "        <tr>\n",
       "            <td>Japan</td>\n",
       "            <td>0.83</td>\n",
       "            <td>0.16</td>\n",
       "            <td>0.0</td>\n",
       "        </tr>\n",
       "        <tr>\n",
       "            <td>Romania</td>\n",
       "            <td>0.77</td>\n",
       "            <td>0.3</td>\n",
       "            <td>0.24</td>\n",
       "        </tr>\n",
       "        <tr>\n",
       "            <td>Bulgaria</td>\n",
       "            <td>0.62</td>\n",
       "            <td>0.58</td>\n",
       "            <td>0.29</td>\n",
       "        </tr>\n",
       "        <tr>\n",
       "            <td>Slovenia</td>\n",
       "            <td>0.74</td>\n",
       "            <td>0.26</td>\n",
       "            <td>0.37</td>\n",
       "        </tr>\n",
       "        <tr>\n",
       "            <td>Bosnia and Herzegovina</td>\n",
       "            <td>0.91</td>\n",
       "            <td>0.13</td>\n",
       "            <td>0.38</td>\n",
       "        </tr>\n",
       "        <tr>\n",
       "            <td>Poland</td>\n",
       "            <td>0.96</td>\n",
       "            <td>0.09</td>\n",
       "            <td>0.46</td>\n",
       "        </tr>\n",
       "        <tr>\n",
       "            <td>Belarus</td>\n",
       "            <td>0.8</td>\n",
       "            <td>0.2</td>\n",
       "            <td>0.7</td>\n",
       "        </tr>\n",
       "    </tbody>\n",
       "</table>"
      ],
      "text/plain": [
       "[('Serbia', 0.66, 0.46, 0.0),\n",
       " ('Japan', 0.83, 0.16, 0.0),\n",
       " ('Romania', 0.77, 0.3, 0.24),\n",
       " ('Bulgaria', 0.62, 0.58, 0.29),\n",
       " ('Slovenia', 0.74, 0.26, 0.37),\n",
       " ('Bosnia and Herzegovina', 0.91, 0.13, 0.38),\n",
       " ('Poland', 0.96, 0.09, 0.46),\n",
       " ('Belarus', 0.8, 0.2, 0.7)]"
      ]
     },
     "execution_count": 24,
     "metadata": {},
     "output_type": "execute_result"
    }
   ],
   "source": [
    "%%sql\n",
    "SELECT name,\n",
    "       ROUND((birth_rate / death_rate), 2) AS birth_death_ratio, \n",
    "       population_growth,\n",
    "       migration_rate\n",
    "  FROM facts\n",
    " WHERE birth_death_ratio < 1\n",
    "     AND population_growth < 1\n",
    "     AND migration_rate < 1\n",
    " ORDER BY 4, 2, 3;"
   ]
  },
  {
   "cell_type": "markdown",
   "id": "251c1f8f",
   "metadata": {},
   "source": [
    ">- Asides from **Japan**, these countries (**Serbia**, **Romania**, **Bulgaria**, **Slovenia**, **Bosnia and Herzegovina**, **Poland** and **Belarus**) are located in or near Eastern Europe.<br><br>\n",
    "> <img src='./images/east_eu_map.png'\n",
    "     width=\"700\" height=\"500\">\n",
    "\n",
    "The first cause of the rapidly declining population around East Europe is birth rates. According to the Peterson Institute for International Economics (PIIE), the region's birth rates have fallen since [the collapse of the Soviet Union](https://www.visualcapitalist.com/4-historical-maps-that-explain-the-ussr/). \n",
    "\n",
    "The falling birth rate is also not enough to offset deaths and citizens leaving their country to live elsewhere. Eastern Europe saw several waves of emigration following the European Union’s (EU) border expansions in 2004 and 2007. [The PIIE reports](https://www.visualcapitalist.com/ranked-the-20-countries-with-the-fastest-declining-populations/) that by 2016, **6.3 million** Eastern Europeans had emigrated to other EU countries.\n",
    "\n",
    "#### Japan\n",
    "Birth rates have fallen continuously in Japan since 1970. Japan’s fertility rate is plotted against various forecasts over the years. These forecasts headed upwards, but in reality [rates decreased consistently everytime](https://flowingdata.com/2015/01/08/japan-fertility-rate-forecasts-versus-reality/):\n",
    "\n",
    "<img src='./images/japan_fertility.png'\n",
    "     width=\"700\" height=\"500\">\n",
    "\n",
    "It wasn’t until 2010, however, that the country’s overall population began to shrink. The situation appears dire. In 2021, **811,604** babies were born in Japan, while **1.44** million people died. The Japanese government has introduced various social programs to make having kids more appealing. Still, these don’t appear to be getting to the root of the problem. For deeper insight into Japan’s low birth rates, it’s worth reading [this article](https://www.theatlantic.com/business/archive/2017/07/japan-mystery-low-birth-rate/534291/) by _The Atlantic_.\n",
    "\n",
    "## Conclusions\n",
    "---\n",
    "\n",
    "Throughout this project, we used the CIA World factbook data to identify the leading and lagging territories of the world. Our analysis is based on demographic indicators like population, mortality, and fertility.\n",
    "\n",
    ">- Accounting for 46% of the world's total population, China, India, the United States, Indonesia, and Brazil are the most populated countries. The least populated world locations are majorly Islands and dependencies.<br>\n",
    ">- Due to their small land area, Macau, Monaco, Singapore, and Hong Kong are more densely populated than the rest of the world. However, when considering larger land areas, Bangladesh, South Korea, and Japan are the most densely populated countries.<br>\n",
    ">- Fertility is highest in Africa and lowest in Europe and Asia. Some African countries (Lesotho, Guinea-Bissau) and Eastern European countries (Bulgaria, Lithuania, Serbia) record the highest death rates. The Gulf cooperation countries of the Middle-East record the lowest death rates.<br>\n",
    ">- Population is rapidly declining in East and South-East Europe. This occurrence is due to reducing birth rates, increasing deaths, and emigration to other countries. Japan is also experiencing a population decline despite the positive forecasts for the country.\n",
    "  \n",
    "## Limitation\n",
    "---\n",
    "  \n",
    "- It appears that the CIA collated this data between 2014 and 2015. As a result, our findings are limited to the period the data was published. They may not reflect the current state of the world's countries.\n",
    "\n",
    "## References\n",
    "---\n",
    "  \n",
    "- Britanica: [The Gulf Cooperation Council](https://www.britannica.com/topic/Gulf-Cooperation-Council)\n",
    "- Flowing Data: [Japan fertility rate forecasts versus reality](https://flowingdata.com/2015/01/08/japan-fertility-rate-forecasts-versus-reality/).\n",
    "- National Geographic: [Population density](https://education.nationalgeographic.org/resource/population-density).\n",
    "- Statista: [Fertility rate per woman worldwide](https://www.statista.com/statistics/280190/fertility-rate-per-woman-worldwide-by-income-group/).\n",
    "- Statistics Times: [World death and birth rate](https://statisticstimes.com/demographics/world-death-and-birth-rate.php).\n",
    "- The Atlantic: [The Mystery of Why Japanese People Are Having So Few Babies](https://www.theatlantic.com/business/archive/2017/07/japan-mystery-low-birth-rate/534291/).\n",
    "- The Boorgen Project: [Partnerships needed to address top diseases in Guinea Bissau](https://borgenproject.org/top-diseases-in-guinea-bissau/#:~:text=The%20leading%20cause%20of%20death,significantly%20reduce%20their%20negative%20effects).\n",
    "- The Global Economy: [Country information index](https://www.theglobaleconomy.com/economies/).\n",
    "- The Guardian: [Europe needs many more babies to avert a population disaster](https://www.theguardian.com/world/2015/aug/23/baby-crisis-europe-brink-depopulation-disaster).\n",
    "- The Visual Capitalist: [4 Historical Maps that Explain the USSR](https://www.visualcapitalist.com/4-historical-maps-that-explain-the-ussr/)\n",
    "- The Visual Capitalist: [Ranked: The 20 Countries With the Fastest Declining Populations](https://www.visualcapitalist.com/ranked-the-20-countries-with-the-fastest-declining-populations/).\n",
    "- Wikimedia Commons: [Birth rate vs Death rate 2016](https://commons.wikimedia.org/wiki/File:Birth_rate_vs_Death_rate,_OWID.svg).\n",
    "- Wikipedia: [Saint Pierre and Miquelon](https://en.wikipedia.org/wiki/Saint-Pierre,_Saint_Pierre_and_Miquelon).\n",
    "- Wikipedia: [The World Factbook](https://en.wikipedia.org/wiki/The_World_Factbook).\n",
    "- World Atlas: [Countries and dependencies of the world](https://www.worldatlas.com/geography/dependencies-and-territories-of-the-world.html).\n",
    "- World Atlas: [Least densely populated places](https://education.nationalgeographic.org/resource/population-density).\n",
    "- Worldometer: [World population by year](https://www.worldometers.info/world-population/world-population-by-year/).\n",
    "- World Population Review: [Antartica's population](https://worldpopulationreview.com/continents/antarctica-population)."
   ]
  }
 ],
 "metadata": {
  "kernelspec": {
   "display_name": "Python 3 (ipykernel)",
   "language": "python",
   "name": "python3"
  },
  "language_info": {
   "codemirror_mode": {
    "name": "ipython",
    "version": 3
   },
   "file_extension": ".py",
   "mimetype": "text/x-python",
   "name": "python",
   "nbconvert_exporter": "python",
   "pygments_lexer": "ipython3",
   "version": "3.9.7"
  }
 },
 "nbformat": 4,
 "nbformat_minor": 5
}
