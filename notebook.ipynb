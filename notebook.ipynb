{
 "cells": [
  {
   "cell_type": "markdown",
   "id": "135a01fd",
   "metadata": {},
   "source": [
    "# CIA Factbook Data Analysis with SQL\n",
    "\n",
    "The CIA factbook, also known as the [World Factbook](https://www.cia.gov/the-world-factbook/), is an annual publication of the US Central Intelligence Agency. It provides basic intelligence by summarizing information about countries and regions worldwide. The factbook contains a mix of demographic and geographic data, among many more.\n",
    "\n",
    "This project aims to use SQL in Jupyter Notebook to analyze data from this [SQLite factbook.db](https://dsserver-prod-resources-1.s3.amazonaws.com/257/factbook.db) database.\n",
    "\n",
    "## Connecting to the Database"
   ]
  },
  {
   "cell_type": "code",
   "execution_count": 1,
   "id": "a52ad379",
   "metadata": {},
   "outputs": [],
   "source": [
    "%%capture\n",
    "%load_ext sql\n",
    "%sql sqlite:///factbook.db"
   ]
  },
  {
   "cell_type": "markdown",
   "id": "0338d730",
   "metadata": {},
   "source": [
    "## Understanding the Data\n",
    "---\n",
    "First, let's examine the tables in our database:"
   ]
  },
  {
   "cell_type": "code",
   "execution_count": 2,
   "id": "6499ad80",
   "metadata": {},
   "outputs": [
    {
     "name": "stdout",
     "output_type": "stream",
     "text": [
      " * sqlite:///factbook.db\n",
      "Done.\n"
     ]
    },
    {
     "data": {
      "text/html": [
       "<table>\n",
       "    <thead>\n",
       "        <tr>\n",
       "            <th>type</th>\n",
       "            <th>name</th>\n",
       "            <th>tbl_name</th>\n",
       "            <th>rootpage</th>\n",
       "            <th>sql</th>\n",
       "        </tr>\n",
       "    </thead>\n",
       "    <tbody>\n",
       "        <tr>\n",
       "            <td>table</td>\n",
       "            <td>sqlite_sequence</td>\n",
       "            <td>sqlite_sequence</td>\n",
       "            <td>3</td>\n",
       "            <td>CREATE TABLE sqlite_sequence(name,seq)</td>\n",
       "        </tr>\n",
       "        <tr>\n",
       "            <td>table</td>\n",
       "            <td>facts</td>\n",
       "            <td>facts</td>\n",
       "            <td>47</td>\n",
       "            <td>CREATE TABLE &quot;facts&quot; (&quot;id&quot; INTEGER PRIMARY KEY AUTOINCREMENT NOT NULL, &quot;code&quot; varchar(255) NOT NULL, &quot;name&quot; varchar(255) NOT NULL, &quot;area&quot; integer, &quot;area_land&quot; integer, &quot;area_water&quot; integer, &quot;population&quot; integer, &quot;population_growth&quot; float, &quot;birth_rate&quot; float, &quot;death_rate&quot; float, &quot;migration_rate&quot; float)</td>\n",
       "        </tr>\n",
       "    </tbody>\n",
       "</table>"
      ],
      "text/plain": [
       "[('table', 'sqlite_sequence', 'sqlite_sequence', 3, 'CREATE TABLE sqlite_sequence(name,seq)'),\n",
       " ('table', 'facts', 'facts', 47, 'CREATE TABLE \"facts\" (\"id\" INTEGER PRIMARY KEY AUTOINCREMENT NOT NULL, \"code\" varchar(255) NOT NULL, \"name\" varchar(255) NOT NULL, \"area\" integer, \"a ... (4 characters truncated) ... land\" integer, \"area_water\" integer, \"population\" integer, \"population_growth\" float, \"birth_rate\" float, \"death_rate\" float, \"migration_rate\" float)')]"
      ]
     },
     "execution_count": 2,
     "metadata": {},
     "output_type": "execute_result"
    }
   ],
   "source": [
    "%%sql\n",
    "SELECT *\n",
    "  FROM sqlite_master\n",
    " WHERE type='table';"
   ]
  },
  {
   "cell_type": "markdown",
   "id": "ed2dbd93",
   "metadata": {},
   "source": [
    "#### Notes\n",
    ">- There are two tables in the database, **sqlite_sequence** and **facts**. \n",
    ">- The sqlite_sequence table does not contain any columns. \n",
    ">- The facts table contains information on _population, birth rate, migration rate_ and many more: this is what we need.\n",
    "  \n",
    "We will work with the **facts** table henceforth."
   ]
  },
  {
   "cell_type": "code",
   "execution_count": 3,
   "id": "bc7f5fbd",
   "metadata": {
    "scrolled": true
   },
   "outputs": [
    {
     "name": "stdout",
     "output_type": "stream",
     "text": [
      " * sqlite:///factbook.db\n",
      "Done.\n"
     ]
    },
    {
     "data": {
      "text/html": [
       "<table>\n",
       "    <thead>\n",
       "        <tr>\n",
       "            <th>id</th>\n",
       "            <th>code</th>\n",
       "            <th>name</th>\n",
       "            <th>area</th>\n",
       "            <th>area_land</th>\n",
       "            <th>area_water</th>\n",
       "            <th>population</th>\n",
       "            <th>population_growth</th>\n",
       "            <th>birth_rate</th>\n",
       "            <th>death_rate</th>\n",
       "            <th>migration_rate</th>\n",
       "        </tr>\n",
       "    </thead>\n",
       "    <tbody>\n",
       "        <tr>\n",
       "            <td>1</td>\n",
       "            <td>af</td>\n",
       "            <td>Afghanistan</td>\n",
       "            <td>652230</td>\n",
       "            <td>652230</td>\n",
       "            <td>0</td>\n",
       "            <td>32564342</td>\n",
       "            <td>2.32</td>\n",
       "            <td>38.57</td>\n",
       "            <td>13.89</td>\n",
       "            <td>1.51</td>\n",
       "        </tr>\n",
       "        <tr>\n",
       "            <td>2</td>\n",
       "            <td>al</td>\n",
       "            <td>Albania</td>\n",
       "            <td>28748</td>\n",
       "            <td>27398</td>\n",
       "            <td>1350</td>\n",
       "            <td>3029278</td>\n",
       "            <td>0.3</td>\n",
       "            <td>12.92</td>\n",
       "            <td>6.58</td>\n",
       "            <td>3.3</td>\n",
       "        </tr>\n",
       "        <tr>\n",
       "            <td>3</td>\n",
       "            <td>ag</td>\n",
       "            <td>Algeria</td>\n",
       "            <td>2381741</td>\n",
       "            <td>2381741</td>\n",
       "            <td>0</td>\n",
       "            <td>39542166</td>\n",
       "            <td>1.84</td>\n",
       "            <td>23.67</td>\n",
       "            <td>4.31</td>\n",
       "            <td>0.92</td>\n",
       "        </tr>\n",
       "        <tr>\n",
       "            <td>4</td>\n",
       "            <td>an</td>\n",
       "            <td>Andorra</td>\n",
       "            <td>468</td>\n",
       "            <td>468</td>\n",
       "            <td>0</td>\n",
       "            <td>85580</td>\n",
       "            <td>0.12</td>\n",
       "            <td>8.13</td>\n",
       "            <td>6.96</td>\n",
       "            <td>0.0</td>\n",
       "        </tr>\n",
       "        <tr>\n",
       "            <td>5</td>\n",
       "            <td>ao</td>\n",
       "            <td>Angola</td>\n",
       "            <td>1246700</td>\n",
       "            <td>1246700</td>\n",
       "            <td>0</td>\n",
       "            <td>19625353</td>\n",
       "            <td>2.78</td>\n",
       "            <td>38.78</td>\n",
       "            <td>11.49</td>\n",
       "            <td>0.46</td>\n",
       "        </tr>\n",
       "    </tbody>\n",
       "</table>"
      ],
      "text/plain": [
       "[(1, 'af', 'Afghanistan', 652230, 652230, 0, 32564342, 2.32, 38.57, 13.89, 1.51),\n",
       " (2, 'al', 'Albania', 28748, 27398, 1350, 3029278, 0.3, 12.92, 6.58, 3.3),\n",
       " (3, 'ag', 'Algeria', 2381741, 2381741, 0, 39542166, 1.84, 23.67, 4.31, 0.92),\n",
       " (4, 'an', 'Andorra', 468, 468, 0, 85580, 0.12, 8.13, 6.96, 0.0),\n",
       " (5, 'ao', 'Angola', 1246700, 1246700, 0, 19625353, 2.78, 38.78, 11.49, 0.46)]"
      ]
     },
     "execution_count": 3,
     "metadata": {},
     "output_type": "execute_result"
    }
   ],
   "source": [
    "%%sql\n",
    "-- Examine the first five rows in facts table\n",
    "SELECT *\n",
    "  FROM facts\n",
    " LIMIT 5;"
   ]
  },
  {
   "cell_type": "markdown",
   "id": "f68dd00a",
   "metadata": {},
   "source": [
    "The facts table comprises **11 columns** with intuitive names:\n",
    ">- **id** - Entry row number.\n",
    ">- **code** — The country's [internet code](https://www.cia.gov/the-world-factbook/field/internet-country-code/).\n",
    ">- **name** — Name of the country.\n",
    ">- **area** — The country's total area (both land and water).\n",
    ">- **area_land** — The country's land area in square kilometers.\n",
    ">- **area_water** — The country's water area in square kilometers.\n",
    ">- **population** —  Whole number of people or inhabitants in the country.\n",
    ">- **population_growth** — The country's population growth as a percentage.\n",
    ">- **birth_rate** — The number of births per year per 1,000 inhabitants.\n",
    ">- **death_rate** — The number of deaths per year per 1,000 inhabitants.\n",
    ">- **migration_rate** — The difference between the number of persons entering and leaving the country during the year per 1,000 persons. \n",
    "  \n",
    "Finally, let's check the total number of records in the facts table:"
   ]
  },
  {
   "cell_type": "code",
   "execution_count": 4,
   "id": "ef7751c7",
   "metadata": {},
   "outputs": [
    {
     "name": "stdout",
     "output_type": "stream",
     "text": [
      " * sqlite:///factbook.db\n",
      "Done.\n"
     ]
    },
    {
     "data": {
      "text/html": [
       "<table>\n",
       "    <thead>\n",
       "        <tr>\n",
       "            <th>num_records</th>\n",
       "            <th>unique_countries</th>\n",
       "        </tr>\n",
       "    </thead>\n",
       "    <tbody>\n",
       "        <tr>\n",
       "            <td>261</td>\n",
       "            <td>261</td>\n",
       "        </tr>\n",
       "    </tbody>\n",
       "</table>"
      ],
      "text/plain": [
       "[(261, 261)]"
      ]
     },
     "execution_count": 4,
     "metadata": {},
     "output_type": "execute_result"
    }
   ],
   "source": [
    "%%sql\n",
    "-- Calculate the total number of records\n",
    "SELECT COUNT(*) AS num_records,\n",
    "       COUNT(DISTINCT name) AS unique_countries\n",
    "  FROM facts;"
   ]
  },
  {
   "cell_type": "markdown",
   "id": "4f3833ed",
   "metadata": {},
   "source": [
    "261 records and countries seem unintuitive! We know there are only 195 countries in the world right now. \n",
    "\n",
    "The answer lies in the way the CIA categorizes its information. As of July 2011, The World Factbook comprises 267 **entities** divided into the following categories:\n",
    ">- **Independent countries:** The CIA defines these as people \"politically organized into a sovereign state with a definite territory.\" There are 195 entities in this category.\n",
    ">- **Others:** Places set apart from the list of independent countries. Currently, there are two: Taiwan and the European Union.\n",
    ">- **Dependencies and Areas of Special Sovereignty:** Places affiliated with another country. There are 58 in total.\n",
    ">- **Miscellaneous:** Antarctica and places in dispute. There are six such entities.\n",
    ">- **Other entities:** The world and the oceans. There are five oceans and the world (the World entry is intended as a summary of the other entries).\n",
    "\n",
    "Additional information about this classification can be found in the [world factbook wikipedia page](https://en.wikipedia.org/wiki/The_World_Factbook#:~:text=Entities%20listed,-Main%20article%3A%20List&text=The%20CIA%20defines%20these%20as,category%2C%20there%20are%20195%20entities.&text=Places%20set%20apart%20from%20the,Taiwan%20and%20the%20European%20Union.).\n",
    "\n",
    "We can check for these occurrences in our data:"
   ]
  },
  {
   "cell_type": "code",
   "execution_count": 5,
   "id": "eac75c3b",
   "metadata": {
    "scrolled": false
   },
   "outputs": [
    {
     "name": "stdout",
     "output_type": "stream",
     "text": [
      " * sqlite:///factbook.db\n",
      "Done.\n"
     ]
    },
    {
     "data": {
      "text/html": [
       "<table>\n",
       "    <thead>\n",
       "        <tr>\n",
       "            <th>id</th>\n",
       "            <th>code</th>\n",
       "            <th>name</th>\n",
       "            <th>area</th>\n",
       "            <th>area_land</th>\n",
       "            <th>area_water</th>\n",
       "            <th>population</th>\n",
       "            <th>population_growth</th>\n",
       "            <th>birth_rate</th>\n",
       "            <th>death_rate</th>\n",
       "            <th>migration_rate</th>\n",
       "        </tr>\n",
       "    </thead>\n",
       "    <tbody>\n",
       "        <tr>\n",
       "            <td>197</td>\n",
       "            <td>ee</td>\n",
       "            <td>European Union</td>\n",
       "            <td>4324782</td>\n",
       "            <td>None</td>\n",
       "            <td>None</td>\n",
       "            <td>513949445</td>\n",
       "            <td>0.25</td>\n",
       "            <td>10.2</td>\n",
       "            <td>10.2</td>\n",
       "            <td>2.5</td>\n",
       "        </tr>\n",
       "        <tr>\n",
       "            <td>199</td>\n",
       "            <td>kt</td>\n",
       "            <td>Christmas Island</td>\n",
       "            <td>135</td>\n",
       "            <td>135</td>\n",
       "            <td>0</td>\n",
       "            <td>1530</td>\n",
       "            <td>1.11</td>\n",
       "            <td>None</td>\n",
       "            <td>None</td>\n",
       "            <td>None</td>\n",
       "        </tr>\n",
       "        <tr>\n",
       "            <td>203</td>\n",
       "            <td>nf</td>\n",
       "            <td>Norfolk Island</td>\n",
       "            <td>36</td>\n",
       "            <td>36</td>\n",
       "            <td>0</td>\n",
       "            <td>2210</td>\n",
       "            <td>0.01</td>\n",
       "            <td>None</td>\n",
       "            <td>None</td>\n",
       "            <td>None</td>\n",
       "        </tr>\n",
       "        <tr>\n",
       "            <td>208</td>\n",
       "            <td>ip</td>\n",
       "            <td>Clipperton Island</td>\n",
       "            <td>6</td>\n",
       "            <td>6</td>\n",
       "            <td>0</td>\n",
       "            <td>None</td>\n",
       "            <td>None</td>\n",
       "            <td>None</td>\n",
       "            <td>None</td>\n",
       "            <td>None</td>\n",
       "        </tr>\n",
       "        <tr>\n",
       "            <td>222</td>\n",
       "            <td>bv</td>\n",
       "            <td>Bouvet Island</td>\n",
       "            <td>49</td>\n",
       "            <td>49</td>\n",
       "            <td>0</td>\n",
       "            <td>None</td>\n",
       "            <td>None</td>\n",
       "            <td>None</td>\n",
       "            <td>None</td>\n",
       "            <td>None</td>\n",
       "        </tr>\n",
       "        <tr>\n",
       "            <td>244</td>\n",
       "            <td>bq</td>\n",
       "            <td>Navassa Island</td>\n",
       "            <td>5</td>\n",
       "            <td>5</td>\n",
       "            <td>0</td>\n",
       "            <td>None</td>\n",
       "            <td>None</td>\n",
       "            <td>None</td>\n",
       "            <td>None</td>\n",
       "            <td>None</td>\n",
       "        </tr>\n",
       "        <tr>\n",
       "            <td>248</td>\n",
       "            <td>wq</td>\n",
       "            <td>Wake Island</td>\n",
       "            <td>6</td>\n",
       "            <td>6</td>\n",
       "            <td>0</td>\n",
       "            <td>None</td>\n",
       "            <td>None</td>\n",
       "            <td>None</td>\n",
       "            <td>None</td>\n",
       "            <td>None</td>\n",
       "        </tr>\n",
       "        <tr>\n",
       "            <td>256</td>\n",
       "            <td>xq</td>\n",
       "            <td>Arctic Ocean</td>\n",
       "            <td>None</td>\n",
       "            <td>None</td>\n",
       "            <td>None</td>\n",
       "            <td>None</td>\n",
       "            <td>None</td>\n",
       "            <td>None</td>\n",
       "            <td>None</td>\n",
       "            <td>None</td>\n",
       "        </tr>\n",
       "        <tr>\n",
       "            <td>257</td>\n",
       "            <td>zh</td>\n",
       "            <td>Atlantic Ocean</td>\n",
       "            <td>None</td>\n",
       "            <td>None</td>\n",
       "            <td>None</td>\n",
       "            <td>None</td>\n",
       "            <td>None</td>\n",
       "            <td>None</td>\n",
       "            <td>None</td>\n",
       "            <td>None</td>\n",
       "        </tr>\n",
       "        <tr>\n",
       "            <td>258</td>\n",
       "            <td>xo</td>\n",
       "            <td>Indian Ocean</td>\n",
       "            <td>None</td>\n",
       "            <td>None</td>\n",
       "            <td>None</td>\n",
       "            <td>None</td>\n",
       "            <td>None</td>\n",
       "            <td>None</td>\n",
       "            <td>None</td>\n",
       "            <td>None</td>\n",
       "        </tr>\n",
       "        <tr>\n",
       "            <td>259</td>\n",
       "            <td>zn</td>\n",
       "            <td>Pacific Ocean</td>\n",
       "            <td>None</td>\n",
       "            <td>None</td>\n",
       "            <td>None</td>\n",
       "            <td>None</td>\n",
       "            <td>None</td>\n",
       "            <td>None</td>\n",
       "            <td>None</td>\n",
       "            <td>None</td>\n",
       "        </tr>\n",
       "        <tr>\n",
       "            <td>260</td>\n",
       "            <td>oo</td>\n",
       "            <td>Southern Ocean</td>\n",
       "            <td>None</td>\n",
       "            <td>None</td>\n",
       "            <td>None</td>\n",
       "            <td>None</td>\n",
       "            <td>None</td>\n",
       "            <td>None</td>\n",
       "            <td>None</td>\n",
       "            <td>None</td>\n",
       "        </tr>\n",
       "        <tr>\n",
       "            <td>261</td>\n",
       "            <td>xx</td>\n",
       "            <td>World</td>\n",
       "            <td>None</td>\n",
       "            <td>None</td>\n",
       "            <td>None</td>\n",
       "            <td>7256490011</td>\n",
       "            <td>1.08</td>\n",
       "            <td>18.6</td>\n",
       "            <td>7.8</td>\n",
       "            <td>None</td>\n",
       "        </tr>\n",
       "    </tbody>\n",
       "</table>"
      ],
      "text/plain": [
       "[(197, 'ee', 'European Union', 4324782, None, None, 513949445, 0.25, 10.2, 10.2, 2.5),\n",
       " (199, 'kt', 'Christmas Island', 135, 135, 0, 1530, 1.11, None, None, None),\n",
       " (203, 'nf', 'Norfolk Island', 36, 36, 0, 2210, 0.01, None, None, None),\n",
       " (208, 'ip', 'Clipperton Island', 6, 6, 0, None, None, None, None, None),\n",
       " (222, 'bv', 'Bouvet Island', 49, 49, 0, None, None, None, None, None),\n",
       " (244, 'bq', 'Navassa Island', 5, 5, 0, None, None, None, None, None),\n",
       " (248, 'wq', 'Wake Island', 6, 6, 0, None, None, None, None, None),\n",
       " (256, 'xq', 'Arctic Ocean', None, None, None, None, None, None, None, None),\n",
       " (257, 'zh', 'Atlantic Ocean', None, None, None, None, None, None, None, None),\n",
       " (258, 'xo', 'Indian Ocean', None, None, None, None, None, None, None, None),\n",
       " (259, 'zn', 'Pacific Ocean', None, None, None, None, None, None, None, None),\n",
       " (260, 'oo', 'Southern Ocean', None, None, None, None, None, None, None, None),\n",
       " (261, 'xx', 'World', None, None, None, 7256490011, 1.08, 18.6, 7.8, None)]"
      ]
     },
     "execution_count": 5,
     "metadata": {},
     "output_type": "execute_result"
    }
   ],
   "source": [
    "%%sql\n",
    "-- check for some instances of \"non-country\" data\n",
    "SELECT *\n",
    "  FROM facts\n",
    " WHERE name LIKE '%union' \n",
    "    OR name LIKE '%ocean'\n",
    "    OR name LIKE '%island'\n",
    "    OR name = 'World';"
   ]
  },
  {
   "cell_type": "markdown",
   "id": "9eb08de4",
   "metadata": {},
   "source": [
    ">- Since these occurrences are present, we should be careful to avoid their influence on the analysis process.\n",
    "  \n",
    "We can now proceed to analysis with _some_ understanding of the data and potential pitfalls to look out for.\n",
    "\n",
    "## Exploring Total Population\n",
    "---\n",
    "To understand how population values are distributed in the data, we can compute the population summary statics: the minimum, mean and maximum."
   ]
  },
  {
   "cell_type": "code",
   "execution_count": 6,
   "id": "88e22564",
   "metadata": {
    "scrolled": true
   },
   "outputs": [
    {
     "name": "stdout",
     "output_type": "stream",
     "text": [
      " * sqlite:///factbook.db\n",
      "Done.\n"
     ]
    },
    {
     "data": {
      "text/html": [
       "<table>\n",
       "    <thead>\n",
       "        <tr>\n",
       "            <th>min_population</th>\n",
       "            <th>avg_population</th>\n",
       "            <th>max_pop</th>\n",
       "        </tr>\n",
       "    </thead>\n",
       "    <tbody>\n",
       "        <tr>\n",
       "            <td>0</td>\n",
       "            <td>62094928</td>\n",
       "            <td>7256490011</td>\n",
       "        </tr>\n",
       "    </tbody>\n",
       "</table>"
      ],
      "text/plain": [
       "[(0, 62094928, 7256490011)]"
      ]
     },
     "execution_count": 6,
     "metadata": {},
     "output_type": "execute_result"
    }
   ],
   "source": [
    "%%sql \n",
    "SELECT MIN(population) AS min_population,\n",
    "       CAST(AVG(population) AS Integer) AS avg_population,\n",
    "       MAX(population) AS max_pop\n",
    "  FROM facts;"
   ]
  },
  {
   "cell_type": "markdown",
   "id": "768fb075",
   "metadata": {},
   "source": [
    "Surprising! Some countries/entities have no inhabitants. Another entity has a population of over 7 billion people. This population seems too good to be true since the world population is currently at [7.96 billion](https://www.worldometers.info/world-population/#:~:text=World%20Population%20Clock%3A%207.96%20Billion%20People%20(2022)%20%2D%20Worldometer) _(Worldometer Aug, 2022)_. It is best to identify what these entities are:"
   ]
  },
  {
   "cell_type": "code",
   "execution_count": 7,
   "id": "14b5b37e",
   "metadata": {},
   "outputs": [
    {
     "name": "stdout",
     "output_type": "stream",
     "text": [
      " * sqlite:///factbook.db\n",
      "Done.\n"
     ]
    },
    {
     "data": {
      "text/html": [
       "<table>\n",
       "    <thead>\n",
       "        <tr>\n",
       "            <th>name</th>\n",
       "            <th>population</th>\n",
       "        </tr>\n",
       "    </thead>\n",
       "    <tbody>\n",
       "        <tr>\n",
       "            <td>Antarctica</td>\n",
       "            <td>0</td>\n",
       "        </tr>\n",
       "        <tr>\n",
       "            <td>World</td>\n",
       "            <td>7256490011</td>\n",
       "        </tr>\n",
       "    </tbody>\n",
       "</table>"
      ],
      "text/plain": [
       "[('Antarctica', 0), ('World', 7256490011)]"
      ]
     },
     "execution_count": 7,
     "metadata": {},
     "output_type": "execute_result"
    }
   ],
   "source": [
    "%%sql \n",
    "-- Investigate the unusual countries/entities\n",
    "SELECT name, population\n",
    "  FROM facts\n",
    " WHERE population = (SELECT MIN(population) FROM facts) \n",
    "    OR population = (SELECT MAX(population) FROM facts);"
   ]
  },
  {
   "cell_type": "markdown",
   "id": "8dfe93ba",
   "metadata": {},
   "source": [
    "Similar to earlier observations, the presence of entries like _World_ and _Antarctica_ explains the unusual population values. According to the [World population review](https://worldpopulationreview.com/continents/antarctica-population), Antarctica has no indigenous inhabitants, only research staff occasionally present at its many research stations. \n",
    "\n",
    "Another interesting thing to note is the world population value (7,256,490,011). A quick search of world population trends reveals that the CIA could have compiled the facts data between 2014 and 2015.<br>\n",
    "<img src=\"./images/world_population.png\" \n",
    "     height=300px \n",
    "     width=300px \n",
    "     align='left'\n",
    "     style=\"margin-left:auto; margin-right:auto\"/>\n",
    "<div style='clear:both;'></div>\n",
    "\n",
    "_**Image source:** [Worldometer](https://www.worldometers.info/world-population/world-population-by-year/)_.\n",
    "\n",
    "With these outliers in mind, we can compute  a more appropriate descriptive statistics."
   ]
  },
  {
   "cell_type": "code",
   "execution_count": 8,
   "id": "bb9ce323",
   "metadata": {},
   "outputs": [
    {
     "name": "stdout",
     "output_type": "stream",
     "text": [
      " * sqlite:///factbook.db\n",
      "Done.\n"
     ]
    },
    {
     "data": {
      "text/html": [
       "<table>\n",
       "    <thead>\n",
       "        <tr>\n",
       "            <th>min_pop</th>\n",
       "            <th>avg_pop</th>\n",
       "            <th>max_pop</th>\n",
       "        </tr>\n",
       "    </thead>\n",
       "    <tbody>\n",
       "        <tr>\n",
       "            <td>48</td>\n",
       "            <td>32377011</td>\n",
       "            <td>1367485388</td>\n",
       "        </tr>\n",
       "    </tbody>\n",
       "</table>"
      ],
      "text/plain": [
       "[(48, 32377011, 1367485388)]"
      ]
     },
     "execution_count": 8,
     "metadata": {},
     "output_type": "execute_result"
    }
   ],
   "source": [
    "%%sql \n",
    "SELECT MIN(population) AS min_pop,\n",
    "       CAST(AVG(population) AS Integer) AS avg_pop,\n",
    "       MAX(population) AS max_pop\n",
    "  FROM facts\n",
    " WHERE population != 0 \n",
    "   AND name != 'World';"
   ]
  },
  {
   "cell_type": "markdown",
   "id": "6558bedc",
   "metadata": {},
   "source": [
    "The minimum population is 48, and the maximum is over 1.3 billion—the average population centers around 32 million inhabitants. We can now identify the highest and least populated countries or entities.\n",
    "\n",
    "### What are the top 5 countries in terms of total population?\n",
    "---"
   ]
  },
  {
   "cell_type": "code",
   "execution_count": 9,
   "id": "713eb31b",
   "metadata": {},
   "outputs": [
    {
     "name": "stdout",
     "output_type": "stream",
     "text": [
      " * sqlite:///factbook.db\n",
      "Done.\n"
     ]
    },
    {
     "data": {
      "text/html": [
       "<table>\n",
       "    <thead>\n",
       "        <tr>\n",
       "            <th>top_10_populated</th>\n",
       "            <th>population</th>\n",
       "        </tr>\n",
       "    </thead>\n",
       "    <tbody>\n",
       "        <tr>\n",
       "            <td>China</td>\n",
       "            <td>1367485388</td>\n",
       "        </tr>\n",
       "        <tr>\n",
       "            <td>India</td>\n",
       "            <td>1251695584</td>\n",
       "        </tr>\n",
       "        <tr>\n",
       "            <td>European Union</td>\n",
       "            <td>513949445</td>\n",
       "        </tr>\n",
       "        <tr>\n",
       "            <td>United States</td>\n",
       "            <td>321368864</td>\n",
       "        </tr>\n",
       "        <tr>\n",
       "            <td>Indonesia</td>\n",
       "            <td>255993674</td>\n",
       "        </tr>\n",
       "    </tbody>\n",
       "</table>"
      ],
      "text/plain": [
       "[('China', 1367485388),\n",
       " ('India', 1251695584),\n",
       " ('European Union', 513949445),\n",
       " ('United States', 321368864),\n",
       " ('Indonesia', 255993674)]"
      ]
     },
     "execution_count": 9,
     "metadata": {},
     "output_type": "execute_result"
    }
   ],
   "source": [
    "%%sql \n",
    "SELECT name AS top_10_populated,\n",
    "       population\n",
    "  FROM facts\n",
    " WHERE population <> 0 \n",
    "   AND name <> 'World'\n",
    " ORDER BY 2 DESC\n",
    " LIMIT 5;"
   ]
  },
  {
   "cell_type": "markdown",
   "id": "c68d2cc8",
   "metadata": {},
   "source": [
    "The European Union is not a country; it is better to filter out the EU. As an extra step, we will calculate the proportion of the world's population contained in each country."
   ]
  },
  {
   "cell_type": "code",
   "execution_count": 10,
   "id": "bc021e02",
   "metadata": {},
   "outputs": [
    {
     "name": "stdout",
     "output_type": "stream",
     "text": [
      " * sqlite:///factbook.db\n",
      "Done.\n"
     ]
    },
    {
     "data": {
      "text/html": [
       "<table>\n",
       "    <thead>\n",
       "        <tr>\n",
       "            <th>10 Most Populated Countries</th>\n",
       "            <th>population</th>\n",
       "            <th>world_proportion</th>\n",
       "        </tr>\n",
       "    </thead>\n",
       "    <tbody>\n",
       "        <tr>\n",
       "            <td>China</td>\n",
       "            <td>1367485388</td>\n",
       "            <td>0.188</td>\n",
       "        </tr>\n",
       "        <tr>\n",
       "            <td>India</td>\n",
       "            <td>1251695584</td>\n",
       "            <td>0.172</td>\n",
       "        </tr>\n",
       "        <tr>\n",
       "            <td>United States</td>\n",
       "            <td>321368864</td>\n",
       "            <td>0.044</td>\n",
       "        </tr>\n",
       "        <tr>\n",
       "            <td>Indonesia</td>\n",
       "            <td>255993674</td>\n",
       "            <td>0.035</td>\n",
       "        </tr>\n",
       "        <tr>\n",
       "            <td>Brazil</td>\n",
       "            <td>204259812</td>\n",
       "            <td>0.028</td>\n",
       "        </tr>\n",
       "    </tbody>\n",
       "</table>"
      ],
      "text/plain": [
       "[('China', 1367485388, 0.188),\n",
       " ('India', 1251695584, 0.172),\n",
       " ('United States', 321368864, 0.044),\n",
       " ('Indonesia', 255993674, 0.035),\n",
       " ('Brazil', 204259812, 0.028)]"
      ]
     },
     "execution_count": 10,
     "metadata": {},
     "output_type": "execute_result"
    }
   ],
   "source": [
    "%%sql \n",
    "SELECT name AS \"10 Most Populated Countries\",\n",
    "       population,\n",
    "       ROUND(\n",
    "              CAST(population AS Float) / \n",
    "              CAST((SELECT MAX(population) FROM facts) AS Float)\n",
    "             , 3) AS world_proportion\n",
    "  FROM facts\n",
    " WHERE population <> 0 \n",
    "   AND name NOT IN ('World', 'European Union')\n",
    " ORDER BY 2 DESC\n",
    " LIMIT 5;"
   ]
  },
  {
   "cell_type": "markdown",
   "id": "f513b61b",
   "metadata": {},
   "source": [
    ">- China is the world's most populated country, with about 1.37 billion people. India follows behind with about 1.26 billion people. **36%** of the world's total population comes from China (18.8%) and India (17.2%) alone.\n",
    ">- The United States (4.4% of the world total), Indonesia (3.5%), and Brazil (2.8%) follow far behind and constitute a combined **11%** of the world's population. Altogether these top 5 countries contribute **46%** to the global population."
   ]
  }
 ],
 "metadata": {
  "kernelspec": {
   "display_name": "Python 3 (ipykernel)",
   "language": "python",
   "name": "python3"
  },
  "language_info": {
   "codemirror_mode": {
    "name": "ipython",
    "version": 3
   },
   "file_extension": ".py",
   "mimetype": "text/x-python",
   "name": "python",
   "nbconvert_exporter": "python",
   "pygments_lexer": "ipython3",
   "version": "3.9.7"
  }
 },
 "nbformat": 4,
 "nbformat_minor": 5
}
